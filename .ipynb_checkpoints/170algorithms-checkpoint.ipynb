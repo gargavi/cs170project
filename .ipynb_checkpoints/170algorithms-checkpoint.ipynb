{
 "cells": [
  {
   "cell_type": "code",
   "execution_count": 1,
   "metadata": {},
   "outputs": [],
   "source": [
    "import random\n",
    "import numpy as np\n",
    "import csv\n",
    "import re\n",
    "import os \n",
    "import networkx as nx\n",
    "from networkx.algorithms import approximation\n",
    "from parse import read_input_file, write_output_file\n",
    "from utils import is_valid_network, average_pairwise_distance\n",
    "from pulp import *\n",
    "import matplotlib.pyplot as plt\n",
    "import time \n",
    "import random as rand"
   ]
  },
  {
   "cell_type": "code",
   "execution_count": 16,
   "metadata": {},
   "outputs": [],
   "source": [
    "def sol1(G): \n",
    "    weighted_set = approximation.min_weighted_dominating_set(G)\n",
    "    # need a way to connect these vertices cheapest way possible \n",
    "    all_potential_T = []\n",
    "    def helper(G, T, vertices):\n",
    "        nonlocal all_potential_T\n",
    "        if all([a in T.nodes() for a in vertices]): \n",
    "            all_potential_T.append(T)      \n",
    "        for edge in G.edges():\n",
    "            if edge not in T.edges():\n",
    "                if ((edge[0] not in T.nodes() and edge[1] in T.nodes()) or (edge[0] in T.nodes() and edge[1] not in T.nodes())):\n",
    "                    new_T = T.copy()\n",
    "                    new_T.edges()\n",
    "                    new_T.add_edge(edge[0], edge[1], weight = G[edge[0]][edge[1]][\"weight\"])\n",
    "                    if not any([nx.is_isomorphic(new_T, tree) for tree in all_potential_T]):\n",
    "                        helper(G, new_T, vertices)\n",
    "                        \n",
    "    first_T = nx.Graph()\n",
    "    first_T.add_node(weighted_set.pop())\n",
    "    helper(G, first_T, weighted_set)\n",
    "    return min(all_potential_T, key = lambda x: average_pairwise_distance(x))\n",
    "def add_weighted_path(path, T, G): \n",
    "    for i in range(len(path)-1):\n",
    "        u = path[i]\n",
    "        v = path[i+1]\n",
    "        if not ((u,v) in T.edges() and (v,u) in T.edges()): \n",
    "            T.add_edge(u, v, weight = G[u][v][\"weight\"])\n",
    "def average_cost(path, G): \n",
    "    total = 0 \n",
    "    for i in range(len(path) - 1):\n",
    "        total += G[path[i]][path[i+1]][\"weight\"]\n",
    "    return total\n",
    "\n",
    "\n",
    "    \n",
    "# find the cheapest way to connect the weighted_set together     \n",
    "def sol25(G, x):\n",
    "    count = 0\n",
    "    start = time.time() \n",
    "    last = 0 \n",
    "    all_potential_T = []\n",
    "    for i in range(x): \n",
    "        print(\"Started Solving\")\n",
    "        connectivity = {} \n",
    "        for a in G.nodes():\n",
    "            neighbor_size = len(list(G.neighbors(a))) \n",
    "            if neighbor_size== len(G.nodes()) - 1: \n",
    "                T = nx.Graph() \n",
    "                T.add_node(a)\n",
    "                return (T, 1)  \n",
    "            connectivity[a] = neighbor_size\n",
    "        weighted_set = approximation.min_weighted_dominating_set(G)\n",
    "        top_connect = sorted(connectivity.keys(), key = lambda x: connectivity[x], reverse = False)\n",
    "        weighted_set = list(weighted_set)\n",
    "        while len(weighted_set) < 10 and (len(top_connect) != 0):\n",
    "            a = top_connect.pop()\n",
    "            b = rand.randint(0, len(G.nodes())-1) \n",
    "            if a not in weighted_set and b not in weighted_set: \n",
    "                weighted_set.append(a)\n",
    "                weighted_set.append(b)\n",
    "        def helper(G, T, vertexes):\n",
    "            nonlocal count \n",
    "            nonlocal all_potential_T\n",
    "            nonlocal last\n",
    "            nonlocal start \n",
    "            if (time.time() - start) > 240: \n",
    "                return none\n",
    "            count += 1\n",
    "            if count % 100 == 0:\n",
    "                print(len(all_potential_T))\n",
    "            node_set = set(list(T.nodes()))\n",
    "            for a in T.nodes():\n",
    "                node_set.update(set(list(G.neighbors(a))))\n",
    "            if len(node_set) == len(G.nodes()):\n",
    "                trimmer(T) \n",
    "            elif len(all_potential_T) - last < 3000:\n",
    "                for u in vertexes: \n",
    "                    if u not in T.nodes():\n",
    "                        try: \n",
    "                            random_v = random.sample(T.nodes(),min([15, len(T.nodes())]))\n",
    "                            G_simp = G.subgraph(random_v + [a for a in G.nodes() if a not in T.nodes()])\n",
    "                            #small = min([i for i nx.single_source_shortest_path_length(G_simp, u).values() if i != 0])\n",
    "                            shortest_path = nx.single_target_shortest_path(G_simp, u )\n",
    "                            added_path = min([i for i in shortest_path.values() if i[0] in random_v], key = lambda x: average_cost(x, G))\n",
    "                            new_T = T.copy()\n",
    "                            add_weighted_path(added_path, new_T, G)\n",
    "                            if nx.is_tree(new_T) and not any([nx.is_isomorphic(new_T, tree) for tree in all_potential_T]):\n",
    "                                helper(G, new_T, vertexes)\n",
    "                        except Exception as e: \n",
    "                            a = 1\n",
    "            else: \n",
    "                last = len(all_potential_T) \n",
    "    #                     for v in random.sample(T.nodes(),min([15, len(T.nodes())])):\n",
    "    #                         new_T = T.copy()\n",
    "    #                         try:\n",
    "    #                             G_simp = G.subgraph([v] + [a for a in G.nodes() if a not in T.nodes()])\n",
    "    #                             #added_path = nx.dijkstra_path(G.subgraph([v] + [a for a in G.nodes() if a not in T.nodes()]), source = u, target = v)\n",
    "    #                             added_path = min(nx.all_simple_paths(G_simp, u, v, cutoff = 1.5* len(next(nx.shortest_simple_paths(G_simp, u, v)))), key = lambda x: average_cost(x, G_simp))\n",
    "    #                             add_weighted_path(added_path, new_T, G)\n",
    "    #                             if nx.is_tree(new_T) and not any([nx.is_isomorphic(new_T, tree) for tree in all_potential_T]) :\n",
    "    #                                 helper(G, new_T, vertexes)\n",
    "    #                         except:\n",
    "    #                             a = 1\n",
    "    #                             #print(\"Couldn't find appropriate path\")\n",
    "\n",
    "        def trimmer(T):\n",
    "            og_T = T.copy()\n",
    "            nonlocal all_potential_T\n",
    "            for edge in T.edges():\n",
    "                new_T = T.copy() \n",
    "                if len(list(og_T.neighbors(edge[0]))) == 1: \n",
    "                    new_T.remove_edge(edge[0], edge[1])\n",
    "                    new_T.remove_node(edge[0])\n",
    "                elif len(list(og_T.neighbors(edge[1]))) == 1: \n",
    "                    new_T.remove_edge(edge[0], edge[1])\n",
    "                    new_T.remove_node(edge[1])\n",
    "                node_set = set(list(new_T.nodes()))\n",
    "                for a in new_T.nodes():\n",
    "                    node_set.update(set(list(G.neighbors(a))))\n",
    "                if len(node_set) == len(G.nodes()) and average_pairwise_distance(new_T) < average_pairwise_distance(og_T):\n",
    "                    all_potential_T.append(new_T)\n",
    "                    T = new_T\n",
    "            all_potential_T.append(T)\n",
    "            \n",
    "        shortest_path = [nx.dijkstra_path(G, source = i, target = j ) for (i, j) in ((i, j) for i in weighted_set for j in weighted_set if i < j)]\n",
    "        for path in shortest_path:\n",
    "            T = nx.Graph()\n",
    "            add_weighted_path(path, T, G)\n",
    "            helper(G, T, weighted_set)\n",
    "        trimmer(nx.minimum_spanning_tree(G))\n",
    "    return (min(all_potential_T, key = lambda x: average_pairwise_distance(x)), len(all_potential_T))\n",
    "\n",
    "\n",
    "def trimmer_back(T): \n",
    "        #nonlocal all_potential_T\n",
    "        for edge in T.edges():\n",
    "            new_T = T.copy() \n",
    "            new_T.remove_edge(edge[0], edge[1])\n",
    "            if new_T.neighbors(edge[0]) == 1: \n",
    "                new_T.remove_node(edge[0])\n",
    "            else: \n",
    "                new_T.remove_node(edge[1])\n",
    "            node_set = set(list(new_T.nodes()))\n",
    "            for a in new_T.nodes():\n",
    "                node_set.update(set(list(G.neighbors(a))))\n",
    "            if len(node_set) == len(G.nodes()):\n",
    "                all_potential_T.append(T) \n",
    "                trimmer(T)\n",
    "\n",
    "def sol3(G):\n",
    "    #first_tree, size = sol25(G, 1)\n",
    "    #second_tree, size_2 = sol25(G, 1)\n",
    "    #num = int(np.round(1 + 2*np.log(np.mean(size + size_2))))\n",
    "    return sol25(G, 10)[0]\n",
    "\n",
    "\n",
    "def sol4(G):\n",
    "    start = time.time() \n",
    "    all_potential_T = [] \n",
    "    def trimmer(T):\n",
    "        og_T = T.copy()\n",
    "        nonlocal all_potential_T\n",
    "        for edge in T.edges():\n",
    "            new_T = T.copy() \n",
    "            if len(list(og_T.neighbors(edge[0]))) == 1: \n",
    "                new_T.remove_edge(edge[0], edge[1])\n",
    "                new_T.remove_node(edge[0])\n",
    "            elif len(list(og_T.neighbors(edge[1]))) == 1: \n",
    "                new_T.remove_edge(edge[0], edge[1])\n",
    "                new_T.remove_node(edge[1])\n",
    "            node_set = set(list(new_T.nodes()))\n",
    "            for a in new_T.nodes():\n",
    "                node_set.update(set(list(G.neighbors(a))))\n",
    "            if len(node_set) == len(G.nodes()) and average_pairwise_distance(new_T) < average_pairwise_distance(og_T):\n",
    "                all_potential_T.append(new_T)\n",
    "                T = new_T\n",
    "        all_potential_T.append(T)\n",
    "        \n",
    "\n",
    "    def helper_func(G):\n",
    "        nonlocal start \n",
    "        nonlocal all_potential_T \n",
    "        print(time.time() - start)\n",
    "        if (time.time() - start) % 30 < 2 and (time.time() - start) % 30 > 0: \n",
    "            print(\"After\" + str(time.time() - start) + \" seconds we have + \" + str(len(all_potential_T)) + \" trees\")\n",
    "        if (time.time() - start) > 240: \n",
    "            return None\n",
    "        \n",
    "#         if len(all_potential_T) % 100 == 0: \n",
    "#             print(len(all_potential_T))\n",
    "        useless_edge = [] \n",
    "        for edge in G.edges(): \n",
    "            if len(list(G.neighbors(edge[0]))) > 1 and len(list(G.neighbors(edge[1]))) >  1:\n",
    "                if len(list(nx.all_simple_paths(G, edge[0], edge[1]))) > 1: \n",
    "                    useless_edge.append(edge)\n",
    "        if len(useless_edge) != 0: \n",
    "            useless_edge = sorted(useless_edge, key = lambda x: G[x[0]][x[1]][\"weight\"])\n",
    "            useless_edge_set = set(useless_edge[:4])\n",
    "            useless_edge_set.update(set(useless_edge[:-4]))\n",
    "            useless_edge_set.update(set(rand.sample(useless_edge, min(len(useless_edge), 4))))\n",
    "            for edge in list(useless_edge): \n",
    "                new_G = G.copy() \n",
    "                new_G.remove_edge(edge[0], edge[1])\n",
    "                if len(list(new_G.neighbors(edge[0]))) == 1: \n",
    "                    new_G.remove_node(edge[0])\n",
    "                elif len(list(new_G.neighbors(edge[1]))) == 1: \n",
    "                    new_G.remove_node(edge[1])\n",
    "                if nx.is_connected(new_G): \n",
    "                    spanning_tree = nx.minimum_spanning_tree(new_G)\n",
    "                    if not any([nx.is_isomorphic(spanning_tree, tree) for tree in all_potential_T]) and len(all_potential_T) < 1000:\n",
    "                        all_potential_T.append(spanning_tree)\n",
    "                        trimmer(spanning_tree)\n",
    "                        helper_func(new_G)\n",
    "    helper_func(G)\n",
    "    trimmer(nx.minimum_spanning_tree(G))\n",
    "    return min(all_potential_T, key = lambda x: average_pairwise_distance(x))\n",
    "                \n",
    "def sol5(G): \n",
    "    ratio = len(G.edges())/len(G.nodes())\n",
    "    print(ratio)\n",
    "    if ratio > 2.75: \n",
    "        return sol3(G)\n",
    "    else: \n",
    "        return sol4(G)\n",
    "    \n",
    "    "
   ]
  },
  {
   "cell_type": "code",
   "execution_count": 11,
   "metadata": {},
   "outputs": [],
   "source": [
    "G = read_input_file(\"10.in\")"
   ]
  },
  {
   "cell_type": "code",
   "execution_count": 6,
   "metadata": {},
   "outputs": [
    {
     "name": "stdout",
     "output_type": "stream",
     "text": [
      "1.8\n",
      "After0.0 seconds we have + 0trees\n",
      "9.750921487808228\n"
     ]
    },
    {
     "data": {
      "text/plain": [
       "28.686666666666667"
      ]
     },
     "execution_count": 6,
     "metadata": {},
     "output_type": "execute_result"
    }
   ],
   "source": [
    "start = time.time() \n",
    "ans = sol5(G)\n",
    "print(time.time() - start)\n",
    "average_pairwise_distance(ans)"
   ]
  },
  {
   "cell_type": "code",
   "execution_count": null,
   "metadata": {},
   "outputs": [],
   "source": [
    "draw_graph(ans)"
   ]
  },
  {
   "cell_type": "code",
   "execution_count": 12,
   "metadata": {},
   "outputs": [
    {
     "name": "stdout",
     "output_type": "stream",
     "text": [
      "5.2\n",
      "Started Solving\n",
      "401\n",
      "Started Solving\n",
      "540\n",
      "Started Solving\n",
      "Started Solving\n",
      "688\n",
      "Started Solving\n",
      "1051\n",
      "Started Solving\n",
      "1414\n",
      "Started Solving\n",
      "Started Solving\n",
      "1572\n",
      "Started Solving\n",
      "1721\n",
      "Started Solving\n",
      "103.92621636390686\n",
      "17.96\n",
      "Started Solving\n",
      "Started Solving\n",
      "Started Solving\n",
      "351\n",
      "Started Solving\n",
      "Started Solving\n",
      "716\n",
      "Started Solving\n",
      "Started Solving\n",
      "1084\n",
      "Started Solving\n",
      "Started Solving\n",
      "1441\n",
      "Started Solving\n",
      "25.849706172943115\n",
      "46.42\n",
      "Started Solving\n",
      "0.0\n"
     ]
    }
   ],
   "source": [
    "G25 = read_input_file(\"25.in\")\n",
    "start  = time.time()\n",
    "ans25 = sol5(G25)\n",
    "print(time.time() - start)\n",
    "G50 = read_input_file(\"50.in\")\n",
    "start  = time.time()\n",
    "ans50 = sol5(G50)\n",
    "print(time.time() - start)\n",
    "G100 = read_input_file(\"100.in\")\n",
    "start  = time.time()\n",
    "ans100 = sol5(G100)\n",
    "print(time.time() - start)"
   ]
  },
  {
   "cell_type": "code",
   "execution_count": null,
   "metadata": {},
   "outputs": [],
   "source": [
    "average_pairwise_distance(ans25)"
   ]
  },
  {
   "cell_type": "code",
   "execution_count": null,
   "metadata": {},
   "outputs": [],
   "source": [
    "def draw_graph(G): \n",
    "    pos=nx.spring_layout(G)\n",
    "    plt.figure(figsize = (20, 10))\n",
    "    nx.draw(G, pos)\n",
    "    labels = nx.get_edge_attributes(G,'weight')\n",
    "    nx.draw_networkx(G, pos,  with_labels= True)\n",
    "    nx.draw_networkx_edge_labels(G,pos,edge_labels=labels, );\n"
   ]
  },
  {
   "cell_type": "code",
   "execution_count": 17,
   "metadata": {},
   "outputs": [
    {
     "name": "stdout",
     "output_type": "stream",
     "text": [
      "small-99.in has 25 nodes 64 edges.\n",
      "2.56\n",
      "0.0\n"
     ]
    },
    {
     "ename": "KeyboardInterrupt",
     "evalue": "",
     "output_type": "error",
     "traceback": [
      "\u001b[1;31m---------------------------------------------------------------------------\u001b[0m",
      "\u001b[1;31mKeyboardInterrupt\u001b[0m                         Traceback (most recent call last)",
      "\u001b[1;32m<ipython-input-17-a1d417e59f9f>\u001b[0m in \u001b[0;36m<module>\u001b[1;34m\u001b[0m\n\u001b[0;32m      3\u001b[0m     \u001b[0mprint\u001b[0m\u001b[1;33m(\u001b[0m\u001b[0mgraph\u001b[0m \u001b[1;33m+\u001b[0m \u001b[1;34m\" has \"\u001b[0m \u001b[1;33m+\u001b[0m \u001b[0mstr\u001b[0m\u001b[1;33m(\u001b[0m\u001b[0mlen\u001b[0m\u001b[1;33m(\u001b[0m\u001b[0mG\u001b[0m\u001b[1;33m.\u001b[0m\u001b[0mnodes\u001b[0m\u001b[1;33m(\u001b[0m\u001b[1;33m)\u001b[0m\u001b[1;33m)\u001b[0m\u001b[1;33m)\u001b[0m \u001b[1;33m+\u001b[0m \u001b[1;34m\" nodes \"\u001b[0m \u001b[1;33m+\u001b[0m \u001b[0mstr\u001b[0m\u001b[1;33m(\u001b[0m\u001b[0mlen\u001b[0m\u001b[1;33m(\u001b[0m\u001b[0mG\u001b[0m\u001b[1;33m.\u001b[0m\u001b[0medges\u001b[0m\u001b[1;33m)\u001b[0m\u001b[1;33m)\u001b[0m \u001b[1;33m+\u001b[0m \u001b[1;34m\" edges.\"\u001b[0m\u001b[1;33m)\u001b[0m\u001b[1;33m\u001b[0m\u001b[1;33m\u001b[0m\u001b[0m\n\u001b[0;32m      4\u001b[0m     \u001b[0mstart\u001b[0m \u001b[1;33m=\u001b[0m \u001b[0mtime\u001b[0m\u001b[1;33m.\u001b[0m\u001b[0mtime\u001b[0m\u001b[1;33m(\u001b[0m\u001b[1;33m)\u001b[0m\u001b[1;33m\u001b[0m\u001b[1;33m\u001b[0m\u001b[0m\n\u001b[1;32m----> 5\u001b[1;33m     \u001b[0mT\u001b[0m \u001b[1;33m=\u001b[0m \u001b[0msol5\u001b[0m\u001b[1;33m(\u001b[0m\u001b[0mG\u001b[0m\u001b[1;33m)\u001b[0m\u001b[1;33m\u001b[0m\u001b[1;33m\u001b[0m\u001b[0m\n\u001b[0m\u001b[0;32m      6\u001b[0m     \u001b[0mprint\u001b[0m\u001b[1;33m(\u001b[0m\u001b[1;34m\"Graph: \"\u001b[0m \u001b[1;33m+\u001b[0m \u001b[0mgraph\u001b[0m \u001b[1;33m+\u001b[0m  \u001b[1;34m\" took \"\u001b[0m \u001b[1;33m+\u001b[0m \u001b[0mstr\u001b[0m\u001b[1;33m(\u001b[0m\u001b[0mtime\u001b[0m\u001b[1;33m.\u001b[0m\u001b[0mtime\u001b[0m\u001b[1;33m(\u001b[0m\u001b[1;33m)\u001b[0m \u001b[1;33m-\u001b[0m \u001b[0mstart\u001b[0m\u001b[1;33m)\u001b[0m \u001b[1;33m+\u001b[0m \u001b[1;34m\" seconds. This graph had: \"\u001b[0m \u001b[1;33m+\u001b[0m \u001b[0mstr\u001b[0m\u001b[1;33m(\u001b[0m\u001b[0mlen\u001b[0m\u001b[1;33m(\u001b[0m\u001b[0mG\u001b[0m\u001b[1;33m.\u001b[0m\u001b[0mnodes\u001b[0m\u001b[1;33m(\u001b[0m\u001b[1;33m)\u001b[0m\u001b[1;33m)\u001b[0m\u001b[1;33m)\u001b[0m \u001b[1;33m+\u001b[0m \u001b[1;34m\" nodes\"\u001b[0m\u001b[1;33m)\u001b[0m\u001b[1;33m\u001b[0m\u001b[1;33m\u001b[0m\u001b[0m\n\u001b[0;32m      7\u001b[0m     \u001b[0mprint\u001b[0m\u001b[1;33m(\u001b[0m\u001b[1;34m\"Saving graph with average pairwise distance \"\u001b[0m \u001b[1;33m+\u001b[0m \u001b[0mstr\u001b[0m\u001b[1;33m(\u001b[0m\u001b[0maverage_pairwise_distance\u001b[0m\u001b[1;33m(\u001b[0m\u001b[0mT\u001b[0m\u001b[1;33m)\u001b[0m\u001b[1;33m)\u001b[0m \u001b[1;33m+\u001b[0m \u001b[1;34m\" to \"\u001b[0m \u001b[1;33m+\u001b[0m \u001b[1;34m'outputs/'\u001b[0m \u001b[1;33m+\u001b[0m \u001b[0mgraph\u001b[0m\u001b[1;33m[\u001b[0m\u001b[1;33m:\u001b[0m\u001b[1;33m-\u001b[0m\u001b[1;36m2\u001b[0m\u001b[1;33m]\u001b[0m \u001b[1;33m+\u001b[0m \u001b[1;34m'out'\u001b[0m\u001b[1;33m)\u001b[0m\u001b[1;33m\u001b[0m\u001b[1;33m\u001b[0m\u001b[0m\n",
      "\u001b[1;32m<ipython-input-16-eebfe5688253>\u001b[0m in \u001b[0;36msol5\u001b[1;34m(G)\u001b[0m\n\u001b[0;32m    222\u001b[0m         \u001b[1;32mreturn\u001b[0m \u001b[0msol3\u001b[0m\u001b[1;33m(\u001b[0m\u001b[0mG\u001b[0m\u001b[1;33m)\u001b[0m\u001b[1;33m\u001b[0m\u001b[1;33m\u001b[0m\u001b[0m\n\u001b[0;32m    223\u001b[0m     \u001b[1;32melse\u001b[0m\u001b[1;33m:\u001b[0m\u001b[1;33m\u001b[0m\u001b[1;33m\u001b[0m\u001b[0m\n\u001b[1;32m--> 224\u001b[1;33m         \u001b[1;32mreturn\u001b[0m \u001b[0msol4\u001b[0m\u001b[1;33m(\u001b[0m\u001b[0mG\u001b[0m\u001b[1;33m)\u001b[0m\u001b[1;33m\u001b[0m\u001b[1;33m\u001b[0m\u001b[0m\n\u001b[0m\u001b[0;32m    225\u001b[0m \u001b[1;33m\u001b[0m\u001b[0m\n\u001b[0;32m    226\u001b[0m \u001b[1;33m\u001b[0m\u001b[0m\n",
      "\u001b[1;32m<ipython-input-16-eebfe5688253>\u001b[0m in \u001b[0;36msol4\u001b[1;34m(G)\u001b[0m\n\u001b[0;32m    212\u001b[0m                         \u001b[0mtrimmer\u001b[0m\u001b[1;33m(\u001b[0m\u001b[0mspanning_tree\u001b[0m\u001b[1;33m)\u001b[0m\u001b[1;33m\u001b[0m\u001b[1;33m\u001b[0m\u001b[0m\n\u001b[0;32m    213\u001b[0m                         \u001b[0mhelper_func\u001b[0m\u001b[1;33m(\u001b[0m\u001b[0mnew_G\u001b[0m\u001b[1;33m)\u001b[0m\u001b[1;33m\u001b[0m\u001b[1;33m\u001b[0m\u001b[0m\n\u001b[1;32m--> 214\u001b[1;33m     \u001b[0mhelper_func\u001b[0m\u001b[1;33m(\u001b[0m\u001b[0mG\u001b[0m\u001b[1;33m)\u001b[0m\u001b[1;33m\u001b[0m\u001b[1;33m\u001b[0m\u001b[0m\n\u001b[0m\u001b[0;32m    215\u001b[0m     \u001b[0mtrimmer\u001b[0m\u001b[1;33m(\u001b[0m\u001b[0mnx\u001b[0m\u001b[1;33m.\u001b[0m\u001b[0mminimum_spanning_tree\u001b[0m\u001b[1;33m(\u001b[0m\u001b[0mG\u001b[0m\u001b[1;33m)\u001b[0m\u001b[1;33m)\u001b[0m\u001b[1;33m\u001b[0m\u001b[1;33m\u001b[0m\u001b[0m\n\u001b[0;32m    216\u001b[0m     \u001b[1;32mreturn\u001b[0m \u001b[0mmin\u001b[0m\u001b[1;33m(\u001b[0m\u001b[0mall_potential_T\u001b[0m\u001b[1;33m,\u001b[0m \u001b[0mkey\u001b[0m \u001b[1;33m=\u001b[0m \u001b[1;32mlambda\u001b[0m \u001b[0mx\u001b[0m\u001b[1;33m:\u001b[0m \u001b[0maverage_pairwise_distance\u001b[0m\u001b[1;33m(\u001b[0m\u001b[0mx\u001b[0m\u001b[1;33m)\u001b[0m\u001b[1;33m)\u001b[0m\u001b[1;33m\u001b[0m\u001b[1;33m\u001b[0m\u001b[0m\n",
      "\u001b[1;32m<ipython-input-16-eebfe5688253>\u001b[0m in \u001b[0;36mhelper_func\u001b[1;34m(G)\u001b[0m\n\u001b[0;32m    192\u001b[0m         \u001b[1;32mfor\u001b[0m \u001b[0medge\u001b[0m \u001b[1;32min\u001b[0m \u001b[0mG\u001b[0m\u001b[1;33m.\u001b[0m\u001b[0medges\u001b[0m\u001b[1;33m(\u001b[0m\u001b[1;33m)\u001b[0m\u001b[1;33m:\u001b[0m\u001b[1;33m\u001b[0m\u001b[1;33m\u001b[0m\u001b[0m\n\u001b[0;32m    193\u001b[0m             \u001b[1;32mif\u001b[0m \u001b[0mlen\u001b[0m\u001b[1;33m(\u001b[0m\u001b[0mlist\u001b[0m\u001b[1;33m(\u001b[0m\u001b[0mG\u001b[0m\u001b[1;33m.\u001b[0m\u001b[0mneighbors\u001b[0m\u001b[1;33m(\u001b[0m\u001b[0medge\u001b[0m\u001b[1;33m[\u001b[0m\u001b[1;36m0\u001b[0m\u001b[1;33m]\u001b[0m\u001b[1;33m)\u001b[0m\u001b[1;33m)\u001b[0m\u001b[1;33m)\u001b[0m \u001b[1;33m>\u001b[0m \u001b[1;36m1\u001b[0m \u001b[1;32mand\u001b[0m \u001b[0mlen\u001b[0m\u001b[1;33m(\u001b[0m\u001b[0mlist\u001b[0m\u001b[1;33m(\u001b[0m\u001b[0mG\u001b[0m\u001b[1;33m.\u001b[0m\u001b[0mneighbors\u001b[0m\u001b[1;33m(\u001b[0m\u001b[0medge\u001b[0m\u001b[1;33m[\u001b[0m\u001b[1;36m1\u001b[0m\u001b[1;33m]\u001b[0m\u001b[1;33m)\u001b[0m\u001b[1;33m)\u001b[0m\u001b[1;33m)\u001b[0m \u001b[1;33m>\u001b[0m  \u001b[1;36m1\u001b[0m\u001b[1;33m:\u001b[0m\u001b[1;33m\u001b[0m\u001b[1;33m\u001b[0m\u001b[0m\n\u001b[1;32m--> 194\u001b[1;33m                 \u001b[1;32mif\u001b[0m \u001b[0mlen\u001b[0m\u001b[1;33m(\u001b[0m\u001b[0mlist\u001b[0m\u001b[1;33m(\u001b[0m\u001b[0mnx\u001b[0m\u001b[1;33m.\u001b[0m\u001b[0mall_simple_paths\u001b[0m\u001b[1;33m(\u001b[0m\u001b[0mG\u001b[0m\u001b[1;33m,\u001b[0m \u001b[0medge\u001b[0m\u001b[1;33m[\u001b[0m\u001b[1;36m0\u001b[0m\u001b[1;33m]\u001b[0m\u001b[1;33m,\u001b[0m \u001b[0medge\u001b[0m\u001b[1;33m[\u001b[0m\u001b[1;36m1\u001b[0m\u001b[1;33m]\u001b[0m\u001b[1;33m)\u001b[0m\u001b[1;33m)\u001b[0m\u001b[1;33m)\u001b[0m \u001b[1;33m>\u001b[0m \u001b[1;36m1\u001b[0m\u001b[1;33m:\u001b[0m\u001b[1;33m\u001b[0m\u001b[1;33m\u001b[0m\u001b[0m\n\u001b[0m\u001b[0;32m    195\u001b[0m                     \u001b[0museless_edge\u001b[0m\u001b[1;33m.\u001b[0m\u001b[0mappend\u001b[0m\u001b[1;33m(\u001b[0m\u001b[0medge\u001b[0m\u001b[1;33m)\u001b[0m\u001b[1;33m\u001b[0m\u001b[1;33m\u001b[0m\u001b[0m\n\u001b[0;32m    196\u001b[0m         \u001b[1;32mif\u001b[0m \u001b[0mlen\u001b[0m\u001b[1;33m(\u001b[0m\u001b[0museless_edge\u001b[0m\u001b[1;33m)\u001b[0m \u001b[1;33m!=\u001b[0m \u001b[1;36m0\u001b[0m\u001b[1;33m:\u001b[0m\u001b[1;33m\u001b[0m\u001b[1;33m\u001b[0m\u001b[0m\n",
      "\u001b[1;32mc:\\python38\\lib\\site-packages\\networkx\\algorithms\\simple_paths.py\u001b[0m in \u001b[0;36m_all_simple_paths_graph\u001b[1;34m(G, source, targets, cutoff)\u001b[0m\n\u001b[0;32m    264\u001b[0m                 \u001b[1;32myield\u001b[0m \u001b[0mlist\u001b[0m\u001b[1;33m(\u001b[0m\u001b[0mvisited\u001b[0m\u001b[1;33m)\u001b[0m \u001b[1;33m+\u001b[0m \u001b[1;33m[\u001b[0m\u001b[0mchild\u001b[0m\u001b[1;33m]\u001b[0m\u001b[1;33m\u001b[0m\u001b[1;33m\u001b[0m\u001b[0m\n\u001b[0;32m    265\u001b[0m             \u001b[0mvisited\u001b[0m\u001b[1;33m[\u001b[0m\u001b[0mchild\u001b[0m\u001b[1;33m]\u001b[0m \u001b[1;33m=\u001b[0m \u001b[1;32mNone\u001b[0m\u001b[1;33m\u001b[0m\u001b[1;33m\u001b[0m\u001b[0m\n\u001b[1;32m--> 266\u001b[1;33m             \u001b[1;32mif\u001b[0m \u001b[0mtargets\u001b[0m \u001b[1;33m-\u001b[0m \u001b[0mset\u001b[0m\u001b[1;33m(\u001b[0m\u001b[0mvisited\u001b[0m\u001b[1;33m.\u001b[0m\u001b[0mkeys\u001b[0m\u001b[1;33m(\u001b[0m\u001b[1;33m)\u001b[0m\u001b[1;33m)\u001b[0m\u001b[1;33m:\u001b[0m  \u001b[1;31m# expand stack until find all targets\u001b[0m\u001b[1;33m\u001b[0m\u001b[1;33m\u001b[0m\u001b[0m\n\u001b[0m\u001b[0;32m    267\u001b[0m                 \u001b[0mstack\u001b[0m\u001b[1;33m.\u001b[0m\u001b[0mappend\u001b[0m\u001b[1;33m(\u001b[0m\u001b[0miter\u001b[0m\u001b[1;33m(\u001b[0m\u001b[0mG\u001b[0m\u001b[1;33m[\u001b[0m\u001b[0mchild\u001b[0m\u001b[1;33m]\u001b[0m\u001b[1;33m)\u001b[0m\u001b[1;33m)\u001b[0m\u001b[1;33m\u001b[0m\u001b[1;33m\u001b[0m\u001b[0m\n\u001b[0;32m    268\u001b[0m             \u001b[1;32melse\u001b[0m\u001b[1;33m:\u001b[0m\u001b[1;33m\u001b[0m\u001b[1;33m\u001b[0m\u001b[0m\n",
      "\u001b[1;31mKeyboardInterrupt\u001b[0m: "
     ]
    }
   ],
   "source": [
    "for graph in sorted(os.listdir(\"inputs\"), reverse = True): \n",
    "    G = read_input_file(\"inputs/\" + graph)\n",
    "    print(graph + \" has \" + str(len(G.nodes())) + \" nodes \" + str(len(G.edges)) + \" edges.\")\n",
    "    start = time.time() \n",
    "    T = sol5(G)\n",
    "    print(\"Graph: \" + graph +  \" took \" + str(time.time() - start) + \" seconds. This graph had: \" + str(len(G.nodes())) + \" nodes\")\n",
    "    print(\"Saving graph with average pairwise distance \" + str(average_pairwise_distance(T)) + \" to \" + 'outputs/' + graph[:-2] + 'out')\n",
    "    write_output_file(T, 'outputs/' + graph[:-2] + 'out')"
   ]
  },
  {
   "cell_type": "code",
   "execution_count": null,
   "metadata": {},
   "outputs": [],
   "source": [
    "231.56 % 30"
   ]
  },
  {
   "cell_type": "code",
   "execution_count": null,
   "metadata": {},
   "outputs": [],
   "source": []
  },
  {
   "cell_type": "code",
   "execution_count": 6,
   "metadata": {},
   "outputs": [
    {
     "data": {
      "text/plain": [
       "1006"
      ]
     },
     "execution_count": 6,
     "metadata": {},
     "output_type": "execute_result"
    }
   ],
   "source": [
    "sorted(os.listdir(\"inputs\"), reverse = True)"
   ]
  },
  {
   "cell_type": "code",
   "execution_count": 69,
   "metadata": {},
   "outputs": [
    {
     "name": "stdout",
     "output_type": "stream",
     "text": [
      "0\n",
      "100\n",
      "200\n",
      "300\n",
      "400\n",
      "500\n",
      "600\n",
      "700\n",
      "800\n",
      "900\n",
      "231.2041974067688\n"
     ]
    }
   ],
   "source": [
    "start = time.time()\n",
    "G = read_input_file(\"inputs/medium-6.in\")\n",
    "len(G.nodes()), len(G.edges())\n",
    "solu = sol4(G)\n",
    "print(time.time() - start)"
   ]
  },
  {
   "cell_type": "code",
   "execution_count": 24,
   "metadata": {},
   "outputs": [
    {
     "data": {
      "text/plain": [
       "147.46399076923078"
      ]
     },
     "execution_count": 24,
     "metadata": {},
     "output_type": "execute_result"
    }
   ],
   "source": []
  },
  {
   "cell_type": "code",
   "execution_count": null,
   "metadata": {},
   "outputs": [],
   "source": [
    "def average_cost(path, G): \n",
    "    total = 0 \n",
    "    for i in range(len(path) - 1):\n",
    "        total += G[path[i]][path[i+1]][\"weight\"]\n",
    "    return total\n",
    "\n",
    "min(nx.all_simple_paths(G, 0, 1, cutoff = 3* len(next(nx.shortest_simple_paths(G, 0, 1)))), key = lambda x: average_cost(x, G))"
   ]
  },
  {
   "cell_type": "code",
   "execution_count": null,
   "metadata": {},
   "outputs": [],
   "source": [
    "next(nx.shortest_simple_paths(G, 0, 1))\n"
   ]
  },
  {
   "cell_type": "code",
   "execution_count": 9,
   "metadata": {},
   "outputs": [
    {
     "data": {
      "text/plain": [
       "[(3, 4),\n",
       " (0, 9),\n",
       " (8, 6),\n",
       " (4, 5),\n",
       " (0, 8),\n",
       " (0, 2),\n",
       " (2, 6),\n",
       " (1, 5),\n",
       " (0, 7),\n",
       " (6, 5),\n",
       " (8, 3),\n",
       " (0, 1),\n",
       " (8, 4),\n",
       " (0, 3),\n",
       " (0, 5),\n",
       " (2, 4),\n",
       " (0, 4),\n",
       " (6, 3)]"
      ]
     },
     "execution_count": 9,
     "metadata": {},
     "output_type": "execute_result"
    }
   ],
   "source": [
    "nx.is_connected()"
   ]
  },
  {
   "cell_type": "code",
   "execution_count": 11,
   "metadata": {},
   "outputs": [
    {
     "data": {
      "text/plain": [
       "{'weight': 94.72}"
      ]
     },
     "execution_count": 11,
     "metadata": {},
     "output_type": "execute_result"
    }
   ],
   "source": [
    "G[6][3]"
   ]
  },
  {
   "cell_type": "code",
   "execution_count": 57,
   "metadata": {},
   "outputs": [
    {
     "data": {
      "text/plain": [
       "9"
      ]
     },
     "execution_count": 57,
     "metadata": {},
     "output_type": "execute_result"
    }
   ],
   "source": []
  },
  {
   "cell_type": "code",
   "execution_count": 9,
   "metadata": {},
   "outputs": [
    {
     "data": {
      "text/plain": [
       "EdgeView([(0, 21), (0, 24), (0, 17), (0, 25), (0, 12), (0, 26), (0, 13), (21, 8), (24, 1), (24, 6), (24, 20), (24, 37), (24, 29), (17, 5), (17, 11), (17, 23), (25, 31), (12, 4), (26, 2), (26, 22), (26, 33), (26, 34), (13, 35), (13, 23), (3, 31), (5, 34), (6, 36), (6, 32), (36, 29), (7, 37), (37, 27), (8, 15), (15, 39), (9, 20), (9, 38), (20, 14), (20, 16), (10, 29), (29, 19), (29, 39), (11, 28), (18, 22), (33, 30)])"
      ]
     },
     "execution_count": 9,
     "metadata": {},
     "output_type": "execute_result"
    }
   ],
   "source": [
    "G.edges()"
   ]
  },
  {
   "cell_type": "code",
   "execution_count": 10,
   "metadata": {},
   "outputs": [],
   "source": [
    "G.remove_edge(0, 21)"
   ]
  },
  {
   "cell_type": "code",
   "execution_count": 12,
   "metadata": {},
   "outputs": [
    {
     "data": {
      "text/plain": [
       "EdgeView([(0, 24), (0, 17), (0, 25), (0, 12), (0, 26), (0, 13), (21, 8), (24, 1), (24, 6), (24, 20), (24, 37), (24, 29), (17, 5), (17, 11), (17, 23), (25, 31), (12, 4), (26, 2), (26, 22), (26, 33), (26, 34), (13, 35), (13, 23), (3, 31), (5, 34), (6, 36), (6, 32), (36, 29), (7, 37), (37, 27), (8, 15), (15, 39), (9, 20), (9, 38), (20, 14), (20, 16), (10, 29), (29, 19), (29, 39), (11, 28), (18, 22), (33, 30)])"
      ]
     },
     "execution_count": 12,
     "metadata": {},
     "output_type": "execute_result"
    }
   ],
   "source": [
    "G.edges()"
   ]
  },
  {
   "cell_type": "code",
   "execution_count": 32,
   "metadata": {},
   "outputs": [
    {
     "data": {
      "text/plain": [
       "True"
      ]
     },
     "execution_count": 32,
     "metadata": {},
     "output_type": "execute_result"
    }
   ],
   "source": [
    "T = G.copy()\n",
    "nx.is_isomorphic(T, G)"
   ]
  },
  {
   "cell_type": "code",
   "execution_count": 39,
   "metadata": {},
   "outputs": [
    {
     "data": {
      "image/png": "[encoded data removed]",
      "text/plain": [
       "<Figure size 1440x720 with 1 Axes>"
      ]
     },
     "metadata": {},
     "output_type": "display_data"
    }
   ],
   "source": [
    "\n",
    "draw_graph(G)"
   ]
  },
  {
   "cell_type": "code",
   "execution_count": 25,
   "metadata": {},
   "outputs": [
    {
     "data": {
      "text/plain": [
       "False"
      ]
     },
     "execution_count": 25,
     "metadata": {},
     "output_type": "execute_result"
    }
   ],
   "source": [
    "any([False, False, False])"
   ]
  },
  {
   "cell_type": "code",
   "execution_count": 18,
   "metadata": {},
   "outputs": [
    {
     "data": {
      "text/plain": [
       "<networkx.classes.graph.Graph at 0x1f2f8755a30>"
      ]
     },
     "execution_count": 18,
     "metadata": {},
     "output_type": "execute_result"
    }
   ],
   "source": [
    "G"
   ]
  },
  {
   "cell_type": "code",
   "execution_count": 22,
   "metadata": {},
   "outputs": [],
   "source": [
    "i = iter(nx.all_simple_paths(G, 0, 1))"
   ]
  },
  {
   "cell_type": "code",
   "execution_count": 27,
   "metadata": {},
   "outputs": [],
   "source": [
    "b = iter([1, 2])"
   ]
  },
  {
   "cell_type": "code",
   "execution_count": 30,
   "metadata": {},
   "outputs": [
    {
     "ename": "StopIteration",
     "evalue": "",
     "output_type": "error",
     "traceback": [
      "\u001b[1;31m---------------------------------------------------------------------------\u001b[0m",
      "\u001b[1;31mStopIteration\u001b[0m                             Traceback (most recent call last)",
      "\u001b[1;32m<ipython-input-30-adb3e17b0219>\u001b[0m in \u001b[0;36m<module>\u001b[1;34m\u001b[0m\n\u001b[1;32m----> 1\u001b[1;33m \u001b[0mnext\u001b[0m\u001b[1;33m(\u001b[0m\u001b[0mb\u001b[0m\u001b[1;33m)\u001b[0m\u001b[1;33m\u001b[0m\u001b[1;33m\u001b[0m\u001b[0m\n\u001b[0m",
      "\u001b[1;31mStopIteration\u001b[0m: "
     ]
    }
   ],
   "source": [
    "next(b)"
   ]
  },
  {
   "cell_type": "code",
   "execution_count": null,
   "metadata": {},
   "outputs": [],
   "source": []
  }
 ],
 "metadata": {
  "kernelspec": {
   "display_name": "Python 3",
   "language": "python",
   "name": "python3"
  }
 },
 "nbformat": 4,
 "nbformat_minor": 4
}
