{
 "cells": [
  {
   "cell_type": "code",
   "execution_count": null,
   "metadata": {},
   "outputs": [],
   "source": [
    "import random\n",
    "import numpy as np\n",
    "import csv\n",
    "import re\n",
    "import os \n",
    "import networkx as nx\n",
    "from networkx.algorithms import approximation\n",
    "from parse import read_input_file, write_output_file\n",
    "from utils import is_valid_network, average_pairwise_distance\n",
    "from pulp import *\n",
    "import matplotlib.pyplot as plt\n",
    "import time \n",
    "import random as rand"
   ]
  },
  {
   "cell_type": "code",
<<<<<<< HEAD
   "execution_count": 11,
=======
   "execution_count": null,
   "metadata": {},
   "outputs": [],
   "source": [
    "G = read_input_file(\"25.in\")"
   ]
  },
  {
   "cell_type": "code",
   "execution_count": null,
   "metadata": {},
   "outputs": [],
   "source": [
    "len(G.nodes)"
   ]
  },
  {
   "cell_type": "code",
   "execution_count": null,
>>>>>>> e05e618b4c97a00c9904dd233d08d7ab06ab1a10
   "metadata": {},
   "outputs": [],
   "source": [
    "def sol1(G): \n",
    "    print('entered sol 1')\n",
    "    weighted_set = approximation.min_weighted_dominating_set(G)\n",
    "    # need a way to connect these vertices cheapest way possible \n",
    "    all_potential_T = []\n",
    "    def helper(G, T, vertices):\n",
    "        nonlocal all_potential_T\n",
    "        if all([a in T.nodes() for a in vertices]): \n",
    "            all_potential_T.append(T)      \n",
    "        for edge in G.edges():\n",
    "            if edge not in T.edges():\n",
    "                if ((edge[0] not in T.nodes() and edge[1] in T.nodes()) or (edge[0] in T.nodes() and edge[1] not in T.nodes())):\n",
    "                    new_T = T.copy()\n",
    "                    new_T.edges()\n",
    "                    new_T.add_edge(edge[0], edge[1], weight = G[edge[0]][edge[1]][\"weight\"])\n",
    "                    if not any([nx.is_isomorphic(new_T, tree) for tree in all_potential_T]):\n",
    "                        helper(G, new_T, vertices)\n",
    "                        \n",
    "    first_T = nx.Graph()\n",
    "    first_T.add_node(weighted_set.pop())\n",
    "    helper(G, first_T, weighted_set)\n",
    "    return min(all_potential_T, key = lambda x: average_pairwise_distance(x))\n",
    "\n",
    "\n",
    "def add_weighted_path(path, T, G): \n",
    "    for i in range(len(path)-1):\n",
    "        u = path[i]\n",
    "        v = path[i+1]\n",
    "        if not ((u,v) in T.edges() and (v,u) in T.edges()): \n",
    "            T.add_edge(u, v, weight = G[u][v][\"weight\"])\n",
    "def average_cost(path, G): \n",
    "    total = 0 \n",
    "    for i in range(len(path) - 1):\n",
    "        total += G[path[i]][path[i+1]][\"weight\"]\n",
    "    return total\n",
    "\n",
    "\n",
    "    \n",
    "# find the cheapest way to connect the weighted_set together     \n",
<<<<<<< HEAD
    "def sol25(G, x):\n",
    "    count = 0\n",
    "    start = time.time() \n",
    "    last = 0 \n",
    "    all_potential_T = []\n",
    "    for i in range(x): \n",
    "        print(\"Started Solving\")\n",
    "        connectivity = {} \n",
    "        for a in G.nodes():\n",
    "            neighbor_size = len(list(G.neighbors(a))) \n",
    "            if neighbor_size== len(G.nodes()) - 1: \n",
    "                T = nx.Graph() \n",
    "                T.add_node(a)\n",
    "                return (T, 1)  \n",
    "            connectivity[a] = neighbor_size\n",
    "        weighted_set = approximation.min_weighted_dominating_set(G)\n",
    "        top_connect = sorted(connectivity.keys(), key = lambda x: connectivity[x], reverse = False)\n",
    "        weighted_set = list(weighted_set)\n",
    "        while len(weighted_set) < 10 and (len(top_connect) != 0):\n",
    "            a = top_connect.pop()\n",
    "            b = rand.randint(0, len(G.nodes())-1) \n",
    "            if a not in weighted_set and b not in weighted_set: \n",
    "                weighted_set.append(a)\n",
    "                weighted_set.append(b)\n",
    "        def helper(G, T, vertexes):\n",
    "            nonlocal count \n",
    "            nonlocal all_potential_T\n",
    "            nonlocal last\n",
    "            nonlocal start \n",
    "            if (time.time() - start) > 180: \n",
    "                return None\n",
    "            count += 1\n",
    "            if count % 100 == 0:\n",
    "                print(\"Length of list at time\" + str(time.time()- start) + \" second is \" + str(len(all_potential_T)))\n",
    "            node_set = set(list(T.nodes()))\n",
    "            for a in T.nodes():\n",
    "                node_set.update(set(list(G.neighbors(a))))\n",
    "            if len(node_set) == len(G.nodes()):\n",
    "                trimmer(T) \n",
    "            elif len(all_potential_T) - last < 3000:\n",
    "                for u in vertexes: \n",
    "                    if u not in T.nodes():\n",
=======
    "def sol25(G):\n",
    "    print(\"Started Solving\")\n",
    "    connectivity = {} \n",
    "    for a in G.nodes():\n",
    "        neighbor_size = len(list(G.neighbors(a))) \n",
    "        if neighbor_size== len(G.nodes()) - 1: \n",
    "            T = nx.Graph() \n",
    "            T.add_node(a)\n",
    "            return T \n",
    "        connectivity[a] = neighbor_size\n",
    "    print('finished the iteration')\n",
    "    weighted_set = approximation.min_weighted_dominating_set(G)\n",
    "    weighted_set.update(set([rand.randint(0, len(G.nodes())-1) for i in range(len(G.nodes())//10)]))\n",
    "    top_connect = set(sorted(connectivity.keys(), key = lambda x: connectivity[x], reverse = True)[:len(G.nodes)//10])\n",
    "    weighted_set.update(top_connect) \n",
    "    weighted_set = list(weighted_set)\n",
    "    all_potential_T = []\n",
    "    \n",
    "    \n",
    "    # i think something is wrong with helper/ i was looking and im not sure how this is being called lol\n",
    "    def helper(G, T, vertexes):\n",
    "        nonlocal all_potential_T\n",
    "        node_set = set(list(T.nodes()))\n",
    "        for a in T.nodes():\n",
    "            node_set.update(set(list(G.neighbors(a))))\n",
    "        if len(node_set) == len(G.nodes()):\n",
    "            trimmer(T) \n",
    "        else:\n",
    "            for u in vertexes: \n",
    "                if u not in T.nodes():\n",
    "                    for v in T.nodes():\n",
    "                        new_T = T.copy()\n",
>>>>>>> e05e618b4c97a00c9904dd233d08d7ab06ab1a10
    "                        try: \n",
    "                            random_v = random.sample(T.nodes(),min([15, len(T.nodes())]))\n",
    "                            G_simp = G.subgraph(random_v + [a for a in G.nodes() if a not in T.nodes()])\n",
    "                            #small = min([i for i nx.single_source_shortest_path_length(G_simp, u).values() if i != 0])\n",
    "                            shortest_path = nx.single_target_shortest_path(G_simp, u )\n",
    "                            added_path = min([i for i in shortest_path.values() if i[0] in random_v], key = lambda x: average_cost(x, G))\n",
    "                            new_T = T.copy()\n",
    "                            add_weighted_path(added_path, new_T, G)\n",
    "                            if nx.is_tree(new_T) and not any([nx.is_isomorphic(new_T, tree) for tree in all_potential_T]):\n",
    "                                helper(G, new_T, vertexes)\n",
    "                        except Exception as e: \n",
    "                            a = 1\n",
<<<<<<< HEAD
    "            else: \n",
    "                last = len(all_potential_T) \n",
    "    #                     for v in random.sample(T.nodes(),min([15, len(T.nodes())])):\n",
    "    #                         new_T = T.copy()\n",
    "    #                         try:\n",
    "    #                             G_simp = G.subgraph([v] + [a for a in G.nodes() if a not in T.nodes()])\n",
    "    #                             #added_path = nx.dijkstra_path(G.subgraph([v] + [a for a in G.nodes() if a not in T.nodes()]), source = u, target = v)\n",
    "    #                             added_path = min(nx.all_simple_paths(G_simp, u, v, cutoff = 1.5* len(next(nx.shortest_simple_paths(G_simp, u, v)))), key = lambda x: average_cost(x, G_simp))\n",
    "    #                             add_weighted_path(added_path, new_T, G)\n",
    "    #                             if nx.is_tree(new_T) and not any([nx.is_isomorphic(new_T, tree) for tree in all_potential_T]) :\n",
    "    #                                 helper(G, new_T, vertexes)\n",
    "    #                         except:\n",
    "    #                             a = 1\n",
    "    #                             #print(\"Couldn't find appropriate path\")\n",
    "\n",
    "        def trimmer(T):\n",
    "            og_T = T.copy()\n",
    "            nonlocal all_potential_T\n",
    "            for edge in T.edges():\n",
    "                new_T = T.copy() \n",
    "                if len(list(og_T.neighbors(edge[0]))) == 1: \n",
    "                    new_T.remove_edge(edge[0], edge[1])\n",
    "                    new_T.remove_node(edge[0])\n",
    "                elif len(list(og_T.neighbors(edge[1]))) == 1: \n",
    "                    new_T.remove_edge(edge[0], edge[1])\n",
    "                    new_T.remove_node(edge[1])\n",
    "                node_set = set(list(new_T.nodes()))\n",
    "                for a in new_T.nodes():\n",
    "                    node_set.update(set(list(G.neighbors(a))))\n",
    "                if len(node_set) == len(G.nodes()) and average_pairwise_distance(new_T) < average_pairwise_distance(og_T):\n",
    "                    all_potential_T.append(new_T)\n",
    "                    T = new_T\n",
    "            all_potential_T.append(T)\n",
    "            \n",
    "        shortest_path = [nx.dijkstra_path(G, source = i, target = j ) for (i, j) in ((i, j) for i in weighted_set for j in weighted_set if i < j)]\n",
    "        for path in shortest_path:\n",
    "            T = nx.Graph()\n",
    "            add_weighted_path(path, T, G)\n",
    "            helper(G, T, weighted_set)\n",
    "        trimmer(nx.minimum_spanning_tree(G))\n",
    "    return (min(all_potential_T, key = lambda x: average_pairwise_distance(x)), len(all_potential_T))\n",
=======
    "                            #print(\"Couldn't find appropriate path\")\n",
    "                            \n",
    "    def trimmer(T):\n",
    "        print('trim that shit')\n",
    "        nonlocal all_potential_T\n",
    "        for edge in T.edges():\n",
    "            new_T = T.copy() \n",
    "            if len(list(T.neighbors(edge[0]))) == 1: \n",
    "                new_T.remove_edge(edge[0], edge[1])\n",
    "                new_T.remove_node(edge[0])\n",
    "            elif len(list(T.neighbors(edge[1]))) == 1: \n",
    "                new_T.remove_edge(edge[0], edge[1])\n",
    "                new_T.remove_node(edge[1])\n",
    "            node_set = set(list(new_T.nodes()))\n",
    "            for a in new_T.nodes():\n",
    "                node_set.update(set(list(G.neighbors(a))))\n",
    "            if len(node_set) == len(G.nodes()) and average_pairwise_distance(new_T) < average_pairwise_distance(T) :\n",
    "                T = new_T \n",
    "        print('boutta append T')\n",
    "        all_potential_T.append(T)\n",
    "        \n",
    "        \n",
    "    shortest_path = [nx.dijkstra_path(G, source = i, target = j ) for (i, j) in ((i, j) for i in weighted_set for j in weighted_set if i < j)]\n",
    "    for path in shortest_path:\n",
    "        T = nx.Graph()\n",
    "        add_weighted_path(path, T, G)\n",
    "        helper(G, T, weighted_set)\n",
    "    return min(all_potential_T, key = lambda x: average_pairwise_distance(x))\n",
>>>>>>> e05e618b4c97a00c9904dd233d08d7ab06ab1a10
    "\n",
    "\n",
    "def trimmer_back(T): \n",
    "        #nonlocal all_potential_T\n",
    "        print('trim that shit back')\n",
    "        for edge in T.edges():\n",
    "            new_T = T.copy() \n",
    "            new_T.remove_edge(edge[0], edge[1])\n",
    "            if new_T.neighbors(edge[0]) == 1: \n",
    "                new_T.remove_node(edge[0])\n",
    "            else: \n",
    "                new_T.remove_node(edge[1])\n",
    "            node_set = set(list(new_T.nodes()))\n",
    "            for a in new_T.nodes():\n",
    "                node_set.update(set(list(G.neighbors(a))))\n",
    "            if len(node_set) == len(G.nodes()):\n",
    "                all_potential_T.append(T) \n",
    "                trimmer(T)\n",
    "\n",
    "def sol3(G):\n",
<<<<<<< HEAD
    "    #first_tree, size = sol25(G, 1)\n",
    "    #second_tree, size_2 = sol25(G, 1)\n",
    "    #num = int(np.round(1 + 2*np.log(np.mean(size + size_2))))\n",
    "    return sol25(G, 10)[0]\n",
=======
    "    print('entered 3')\n",
    "    trees = [sol25(G) for i in range(15)]\n",
    "    print('finished the trees')\n",
    "    return min(trees,  key = lambda x: average_pairwise_distance(x))\n",
>>>>>>> e05e618b4c97a00c9904dd233d08d7ab06ab1a10
    "\n",
    "\n",
    "def sol4(G):\n",
    "    start = time.time() \n",
    "    all_potential_T = [] \n",
    "    def trimmer(T):\n",
    "        og_T = T.copy()\n",
    "        nonlocal all_potential_T\n",
    "        for edge in T.edges():\n",
    "            new_T = T.copy() \n",
    "            if len(list(og_T.neighbors(edge[0]))) == 1: \n",
    "                new_T.remove_edge(edge[0], edge[1])\n",
    "                new_T.remove_node(edge[0])\n",
    "            elif len(list(og_T.neighbors(edge[1]))) == 1: \n",
    "                new_T.remove_edge(edge[0], edge[1])\n",
    "                new_T.remove_node(edge[1])\n",
    "            node_set = set(list(new_T.nodes()))\n",
    "            for a in new_T.nodes():\n",
    "                node_set.update(set(list(G.neighbors(a))))\n",
    "            if len(node_set) == len(G.nodes()) and average_pairwise_distance(new_T) < average_pairwise_distance(og_T):\n",
    "                all_potential_T.append(new_T)\n",
    "                T = new_T\n",
    "        all_potential_T.append(T)\n",
    "        \n",
    "\n",
    "    def helper_func(G):\n",
    "        nonlocal start \n",
    "        nonlocal all_potential_T \n",
    "        if (time.time() - start) % 30 < .5 and (time.time() - start) % 30 > 0: \n",
    "            print(\"After\" + str(time.time() - start) + \" seconds we have + \" + str(len(all_potential_T)) + \" trees\")\n",
    "        if (time.time() - start) > 240: \n",
    "            return None\n",
    "        \n",
    "#         if len(all_potential_T) % 100 == 0: \n",
    "#             print(len(all_potential_T))\n",
    "        useless_edge = [] \n",
    "        for edge in G.edges(): \n",
    "            if len(list(G.neighbors(edge[0]))) > 1 and len(list(G.neighbors(edge[1]))) >  1:\n",
    "                try: \n",
    "                    b = iter(nx.all_simple_paths(G, edge[0], edge[1]))\n",
    "                    next(b)\n",
    "                    next(b) \n",
    "                    useless_edge.append(edge) \n",
    "                except: \n",
    "                    a = \"Doesn't have edge\" \n",
    "        if len(useless_edge) != 0: \n",
    "            useless_edge = sorted(useless_edge, key = lambda x: G[x[0]][x[1]][\"weight\"])\n",
    "            useless_edge_set = set(useless_edge[:4])\n",
    "            useless_edge_set.update(set(useless_edge[:-4]))\n",
    "            useless_edge_set.update(set(rand.sample(useless_edge, min(len(useless_edge), 4))))\n",
    "            for edge in list(useless_edge): \n",
    "                new_G = G.copy() \n",
    "                new_G.remove_edge(edge[0], edge[1])\n",
    "                if len(list(new_G.neighbors(edge[0]))) == 1: \n",
    "                    new_G.remove_node(edge[0])\n",
    "                elif len(list(new_G.neighbors(edge[1]))) == 1: \n",
    "                    new_G.remove_node(edge[1])\n",
    "                if nx.is_connected(new_G): \n",
    "                    spanning_tree = nx.minimum_spanning_tree(new_G)\n",
    "                    if not any([nx.is_isomorphic(spanning_tree, tree) for tree in all_potential_T]) and len(all_potential_T) < 1000:\n",
    "                        all_potential_T.append(spanning_tree)\n",
    "                        trimmer(spanning_tree)\n",
    "                        helper_func(new_G)\n",
    "    helper_func(G)\n",
    "    trimmer(nx.minimum_spanning_tree(G))\n",
    "    return min(all_potential_T, key = lambda x: average_pairwise_distance(x))\n",
    "                \n",
    "def sol5(G): \n",
    "    ratio = len(G.edges())/len(G.nodes())\n",
    "    print(ratio)\n",
    "    if ratio > 2.75: \n",
    "        return sol3(G)\n",
    "    else: \n",
    "        return sol4(G)\n",
    "    \n",
    "    "
   ]
  },
  {
   "cell_type": "code",
<<<<<<< HEAD
   "execution_count": 7,
=======
   "execution_count": null,
>>>>>>> e05e618b4c97a00c9904dd233d08d7ab06ab1a10
   "metadata": {},
   "outputs": [],
   "source": [
    "G = read_input_file(\"10.in\")"
   ]
  },
  {
   "cell_type": "code",
<<<<<<< HEAD
   "execution_count": 8,
   "metadata": {},
   "outputs": [
    {
     "name": "stdout",
     "output_type": "stream",
     "text": [
      "1.8\n",
      "After0.009971380233764648 seconds we have + 9 trees\n",
      "After0.017948627471923828 seconds we have + 17 trees\n",
      "After0.02792215347290039 seconds we have + 25 trees\n",
      "After0.03689837455749512 seconds we have + 31 trees\n",
      "After0.04886603355407715 seconds we have + 36 trees\n",
      "After0.0638275146484375 seconds we have + 41 trees\n",
      "After0.07881665229797363 seconds we have + 49 trees\n",
      "After0.0808112621307373 seconds we have + 56 trees\n",
      "After0.08280801773071289 seconds we have + 61 trees\n",
      "After0.1775202751159668 seconds we have + 66 trees\n",
      "After0.18453335762023926 seconds we have + 76 trees\n",
      "After0.18951964378356934 seconds we have + 81 trees\n",
      "After0.1935100555419922 seconds we have + 89 trees\n",
      "After0.20345091819763184 seconds we have + 97 trees\n",
      "After0.22742366790771484 seconds we have + 106 trees\n",
      "After0.24434232711791992 seconds we have + 115 trees\n",
      "After0.30820393562316895 seconds we have + 125 trees\n",
      "After0.3560452461242676 seconds we have + 133 trees\n",
      "After0.36901164054870605 seconds we have + 140 trees\n",
      "After0.4209010601043701 seconds we have + 149 trees\n",
      "After0.43483400344848633 seconds we have + 157 trees\n",
      "9.660202264785767\n"
     ]
    },
    {
     "data": {
      "text/plain": [
       "28.686666666666667"
      ]
     },
     "execution_count": 8,
     "metadata": {},
     "output_type": "execute_result"
    }
   ],
=======
   "execution_count": null,
   "metadata": {},
   "outputs": [],
>>>>>>> e05e618b4c97a00c9904dd233d08d7ab06ab1a10
   "source": [
    "start = time.time() \n",
    "ans = sol5(G)\n",
    "print(time.time() - start)\n",
    "average_pairwise_distance(ans)"
   ]
  },
  {
   "cell_type": "code",
<<<<<<< HEAD
   "execution_count": 5,
   "metadata": {},
   "outputs": [
    {
     "ename": "NameError",
     "evalue": "name 'draw_graph' is not defined",
     "output_type": "error",
     "traceback": [
      "\u001b[1;31m---------------------------------------------------------------------------\u001b[0m",
      "\u001b[1;31mNameError\u001b[0m                                 Traceback (most recent call last)",
      "\u001b[1;32m<ipython-input-5-69c61b514bd4>\u001b[0m in \u001b[0;36m<module>\u001b[1;34m\u001b[0m\n\u001b[1;32m----> 1\u001b[1;33m \u001b[0mdraw_graph\u001b[0m\u001b[1;33m(\u001b[0m\u001b[0mans\u001b[0m\u001b[1;33m)\u001b[0m\u001b[1;33m\u001b[0m\u001b[1;33m\u001b[0m\u001b[0m\n\u001b[0m",
      "\u001b[1;31mNameError\u001b[0m: name 'draw_graph' is not defined"
     ]
    }
   ],
   "source": [
    "draw_graph(ans)"
   ]
  },
  {
   "cell_type": "code",
   "execution_count": null,
   "metadata": {},
   "outputs": [],
   "source": [
    "G25 = read_input_file(\"25.in\")\n",
    "start  = time.time()\n",
    "ans25 = sol5(G25)\n",
    "print(time.time() - start)\n",
    "G50 = read_input_file(\"50.in\")\n",
    "start  = time.time()\n",
    "ans50 = sol5(G50)\n",
    "print(time.time() - start)\n",
    "G100 = read_input_file(\"100.in\")\n",
    "start  = time.time()\n",
    "ans100 = sol5(G100)\n",
    "print(time.time() - start)"
=======
   "execution_count": null,
   "metadata": {
    "scrolled": false
   },
   "outputs": [],
   "source": [
    "pathname = '/Users/yashwagh/Desktop/Berkeley/170_proj/cs170project/inputs'\n",
    "for file_name in os.scandir(pathname):\n",
    "    print(file_name)\n",
    "\n",
    "    G25 = read_input_file(file_name)\n",
    "    start  = time.time()\n",
    "    ans25 = sol3(G25)\n",
    "    print(time.time() - start)\n",
    "    G50 = read_input_file(file_name)\n",
    "    start  = time.time()\n",
    "    ans50 = sol3(G50)\n",
    "    print(time.time() - start)\n",
    "    G100 = read_input_file(file_name)\n",
    "    start  = time.time()\n",
    "    ans100 = sol3(G100)\n",
    "    print(time.time() - start)\n"
>>>>>>> e05e618b4c97a00c9904dd233d08d7ab06ab1a10
   ]
  },
  {
   "cell_type": "code",
   "execution_count": null,
   "metadata": {},
   "outputs": [],
   "source": [
    "average_pairwise_distance(ans25)"
   ]
  },
  {
   "cell_type": "code",
   "execution_count": null,
   "metadata": {},
   "outputs": [],
   "source": [
    "def draw_graph(G): \n",
    "    pos=nx.spring_layout(G)\n",
    "    plt.figure(figsize = (20, 10))\n",
    "    nx.draw(G, pos)\n",
    "    labels = nx.get_edge_attributes(G,'weight')\n",
    "    nx.draw_networkx(G, pos,  with_labels= True)\n",
    "    nx.draw_networkx_edge_labels(G,pos,edge_labels=labels, );\n"
   ]
  },
  {
   "cell_type": "code",
   "execution_count": 9,
   "metadata": {},
   "outputs": [
    {
     "name": "stdout",
     "output_type": "stream",
     "text": [
      "small-99.in has 25 nodes 64 edges.\n",
      "2.56\n",
      "Graph: small-99.in took 455.89000129699707 seconds. This graph had: 25 nodes\n",
      "Saving graph with average pairwise distance 46.614948717948714 to outputs/small-99.out\n",
      "small-98.in has 25 nodes 232 edges.\n",
      "9.28\n",
      "Started Solving\n",
      "Started Solving\n",
      "Started Solving\n",
      "292\n",
      "Started Solving\n",
      "Started Solving\n",
      "598\n",
      "Started Solving\n",
      "Started Solving\n",
      "905\n",
      "Started Solving\n",
      "Started Solving\n",
      "1188\n",
      "Started Solving\n",
      "Graph: small-98.in took 16.106799125671387 seconds. This graph had: 25 nodes\n",
      "Saving graph with average pairwise distance 0.438 to outputs/small-98.out\n",
      "small-97.in has 14 nodes 19 edges.\n",
      "1.3571428571428572\n",
      "After0.015956640243530273 seconds we have + 13 trees\n",
      "After0.028922319412231445 seconds we have + 25 trees\n",
      "After0.03889608383178711 seconds we have + 37 trees\n",
      "After0.049866437911987305 seconds we have + 48 trees\n",
      "After0.05784487724304199 seconds we have + 57 trees\n",
      "After0.07442188262939453 seconds we have + 65 trees\n",
      "After0.10733461380004883 seconds we have + 75 trees\n",
      "After0.12428784370422363 seconds we have + 84 trees\n",
      "After0.15420818328857422 seconds we have + 94 trees\n",
      "After0.21205425262451172 seconds we have + 104 trees\n",
      "After0.22402071952819824 seconds we have + 113 trees\n",
      "After0.27291035652160645 seconds we have + 122 trees\n",
      "After0.3227579593658447 seconds we have + 132 trees\n",
      "After0.38459086418151855 seconds we have + 143 trees\n",
      "After0.4494194984436035 seconds we have + 154 trees\n",
      "After0.4898250102996826 seconds we have + 164 trees\n",
      "Graph: small-97.in took 16.13428521156311 seconds. This graph had: 14 nodes\n",
      "Saving graph with average pairwise distance 80.75 to outputs/small-97.out\n",
      "small-96.in has 24 nodes 23 edges.\n",
      "0.9583333333333334\n",
      "Graph: small-96.in took 0.08078241348266602 seconds. This graph had: 24 nodes\n",
      "Saving graph with average pairwise distance 2.769230769230769 to outputs/small-96.out\n",
      "small-95.in has 25 nodes 75 edges.\n",
      "3.0\n",
      "Started Solving\n",
      "237\n",
      "463\n",
      "661\n",
      "899\n",
      "1031\n",
      "1123\n",
      "1288\n",
      "1327\n",
      "1333\n",
      "1365\n",
      "1365\n",
      "1365\n",
      "1492\n"
     ]
    },
    {
     "ename": "NameError",
     "evalue": "name 'none' is not defined",
     "output_type": "error",
     "traceback": [
      "\u001b[1;31m---------------------------------------------------------------------------\u001b[0m",
      "\u001b[1;31mNameError\u001b[0m                                 Traceback (most recent call last)",
      "\u001b[1;32m<ipython-input-9-a1d417e59f9f>\u001b[0m in \u001b[0;36m<module>\u001b[1;34m\u001b[0m\n\u001b[0;32m      3\u001b[0m     \u001b[0mprint\u001b[0m\u001b[1;33m(\u001b[0m\u001b[0mgraph\u001b[0m \u001b[1;33m+\u001b[0m \u001b[1;34m\" has \"\u001b[0m \u001b[1;33m+\u001b[0m \u001b[0mstr\u001b[0m\u001b[1;33m(\u001b[0m\u001b[0mlen\u001b[0m\u001b[1;33m(\u001b[0m\u001b[0mG\u001b[0m\u001b[1;33m.\u001b[0m\u001b[0mnodes\u001b[0m\u001b[1;33m(\u001b[0m\u001b[1;33m)\u001b[0m\u001b[1;33m)\u001b[0m\u001b[1;33m)\u001b[0m \u001b[1;33m+\u001b[0m \u001b[1;34m\" nodes \"\u001b[0m \u001b[1;33m+\u001b[0m \u001b[0mstr\u001b[0m\u001b[1;33m(\u001b[0m\u001b[0mlen\u001b[0m\u001b[1;33m(\u001b[0m\u001b[0mG\u001b[0m\u001b[1;33m.\u001b[0m\u001b[0medges\u001b[0m\u001b[1;33m)\u001b[0m\u001b[1;33m)\u001b[0m \u001b[1;33m+\u001b[0m \u001b[1;34m\" edges.\"\u001b[0m\u001b[1;33m)\u001b[0m\u001b[1;33m\u001b[0m\u001b[1;33m\u001b[0m\u001b[0m\n\u001b[0;32m      4\u001b[0m     \u001b[0mstart\u001b[0m \u001b[1;33m=\u001b[0m \u001b[0mtime\u001b[0m\u001b[1;33m.\u001b[0m\u001b[0mtime\u001b[0m\u001b[1;33m(\u001b[0m\u001b[1;33m)\u001b[0m\u001b[1;33m\u001b[0m\u001b[1;33m\u001b[0m\u001b[0m\n\u001b[1;32m----> 5\u001b[1;33m     \u001b[0mT\u001b[0m \u001b[1;33m=\u001b[0m \u001b[0msol5\u001b[0m\u001b[1;33m(\u001b[0m\u001b[0mG\u001b[0m\u001b[1;33m)\u001b[0m\u001b[1;33m\u001b[0m\u001b[1;33m\u001b[0m\u001b[0m\n\u001b[0m\u001b[0;32m      6\u001b[0m     \u001b[0mprint\u001b[0m\u001b[1;33m(\u001b[0m\u001b[1;34m\"Graph: \"\u001b[0m \u001b[1;33m+\u001b[0m \u001b[0mgraph\u001b[0m \u001b[1;33m+\u001b[0m  \u001b[1;34m\" took \"\u001b[0m \u001b[1;33m+\u001b[0m \u001b[0mstr\u001b[0m\u001b[1;33m(\u001b[0m\u001b[0mtime\u001b[0m\u001b[1;33m.\u001b[0m\u001b[0mtime\u001b[0m\u001b[1;33m(\u001b[0m\u001b[1;33m)\u001b[0m \u001b[1;33m-\u001b[0m \u001b[0mstart\u001b[0m\u001b[1;33m)\u001b[0m \u001b[1;33m+\u001b[0m \u001b[1;34m\" seconds. This graph had: \"\u001b[0m \u001b[1;33m+\u001b[0m \u001b[0mstr\u001b[0m\u001b[1;33m(\u001b[0m\u001b[0mlen\u001b[0m\u001b[1;33m(\u001b[0m\u001b[0mG\u001b[0m\u001b[1;33m.\u001b[0m\u001b[0mnodes\u001b[0m\u001b[1;33m(\u001b[0m\u001b[1;33m)\u001b[0m\u001b[1;33m)\u001b[0m\u001b[1;33m)\u001b[0m \u001b[1;33m+\u001b[0m \u001b[1;34m\" nodes\"\u001b[0m\u001b[1;33m)\u001b[0m\u001b[1;33m\u001b[0m\u001b[1;33m\u001b[0m\u001b[0m\n\u001b[0;32m      7\u001b[0m     \u001b[0mprint\u001b[0m\u001b[1;33m(\u001b[0m\u001b[1;34m\"Saving graph with average pairwise distance \"\u001b[0m \u001b[1;33m+\u001b[0m \u001b[0mstr\u001b[0m\u001b[1;33m(\u001b[0m\u001b[0maverage_pairwise_distance\u001b[0m\u001b[1;33m(\u001b[0m\u001b[0mT\u001b[0m\u001b[1;33m)\u001b[0m\u001b[1;33m)\u001b[0m \u001b[1;33m+\u001b[0m \u001b[1;34m\" to \"\u001b[0m \u001b[1;33m+\u001b[0m \u001b[1;34m'outputs/'\u001b[0m \u001b[1;33m+\u001b[0m \u001b[0mgraph\u001b[0m\u001b[1;33m[\u001b[0m\u001b[1;33m:\u001b[0m\u001b[1;33m-\u001b[0m\u001b[1;36m2\u001b[0m\u001b[1;33m]\u001b[0m \u001b[1;33m+\u001b[0m \u001b[1;34m'out'\u001b[0m\u001b[1;33m)\u001b[0m\u001b[1;33m\u001b[0m\u001b[1;33m\u001b[0m\u001b[0m\n",
      "\u001b[1;32m<ipython-input-6-fdbf4104c8f6>\u001b[0m in \u001b[0;36msol5\u001b[1;34m(G)\u001b[0m\n\u001b[0;32m    224\u001b[0m     \u001b[0mprint\u001b[0m\u001b[1;33m(\u001b[0m\u001b[0mratio\u001b[0m\u001b[1;33m)\u001b[0m\u001b[1;33m\u001b[0m\u001b[1;33m\u001b[0m\u001b[0m\n\u001b[0;32m    225\u001b[0m     \u001b[1;32mif\u001b[0m \u001b[0mratio\u001b[0m \u001b[1;33m>\u001b[0m \u001b[1;36m2.75\u001b[0m\u001b[1;33m:\u001b[0m\u001b[1;33m\u001b[0m\u001b[1;33m\u001b[0m\u001b[0m\n\u001b[1;32m--> 226\u001b[1;33m         \u001b[1;32mreturn\u001b[0m \u001b[0msol3\u001b[0m\u001b[1;33m(\u001b[0m\u001b[0mG\u001b[0m\u001b[1;33m)\u001b[0m\u001b[1;33m\u001b[0m\u001b[1;33m\u001b[0m\u001b[0m\n\u001b[0m\u001b[0;32m    227\u001b[0m     \u001b[1;32melse\u001b[0m\u001b[1;33m:\u001b[0m\u001b[1;33m\u001b[0m\u001b[1;33m\u001b[0m\u001b[0m\n\u001b[0;32m    228\u001b[0m         \u001b[1;32mreturn\u001b[0m \u001b[0msol4\u001b[0m\u001b[1;33m(\u001b[0m\u001b[0mG\u001b[0m\u001b[1;33m)\u001b[0m\u001b[1;33m\u001b[0m\u001b[1;33m\u001b[0m\u001b[0m\n",
      "\u001b[1;32m<ipython-input-6-fdbf4104c8f6>\u001b[0m in \u001b[0;36msol3\u001b[1;34m(G)\u001b[0m\n\u001b[0;32m    152\u001b[0m     \u001b[1;31m#second_tree, size_2 = sol25(G, 1)\u001b[0m\u001b[1;33m\u001b[0m\u001b[1;33m\u001b[0m\u001b[1;33m\u001b[0m\u001b[0m\n\u001b[0;32m    153\u001b[0m     \u001b[1;31m#num = int(np.round(1 + 2*np.log(np.mean(size + size_2))))\u001b[0m\u001b[1;33m\u001b[0m\u001b[1;33m\u001b[0m\u001b[1;33m\u001b[0m\u001b[0m\n\u001b[1;32m--> 154\u001b[1;33m     \u001b[1;32mreturn\u001b[0m \u001b[0msol25\u001b[0m\u001b[1;33m(\u001b[0m\u001b[0mG\u001b[0m\u001b[1;33m,\u001b[0m \u001b[1;36m10\u001b[0m\u001b[1;33m)\u001b[0m\u001b[1;33m[\u001b[0m\u001b[1;36m0\u001b[0m\u001b[1;33m]\u001b[0m\u001b[1;33m\u001b[0m\u001b[1;33m\u001b[0m\u001b[0m\n\u001b[0m\u001b[0;32m    155\u001b[0m \u001b[1;33m\u001b[0m\u001b[0m\n\u001b[0;32m    156\u001b[0m \u001b[1;33m\u001b[0m\u001b[0m\n",
      "\u001b[1;32m<ipython-input-6-fdbf4104c8f6>\u001b[0m in \u001b[0;36msol25\u001b[1;34m(G, x)\u001b[0m\n\u001b[0;32m    127\u001b[0m             \u001b[0mT\u001b[0m \u001b[1;33m=\u001b[0m \u001b[0mnx\u001b[0m\u001b[1;33m.\u001b[0m\u001b[0mGraph\u001b[0m\u001b[1;33m(\u001b[0m\u001b[1;33m)\u001b[0m\u001b[1;33m\u001b[0m\u001b[1;33m\u001b[0m\u001b[0m\n\u001b[0;32m    128\u001b[0m             \u001b[0madd_weighted_path\u001b[0m\u001b[1;33m(\u001b[0m\u001b[0mpath\u001b[0m\u001b[1;33m,\u001b[0m \u001b[0mT\u001b[0m\u001b[1;33m,\u001b[0m \u001b[0mG\u001b[0m\u001b[1;33m)\u001b[0m\u001b[1;33m\u001b[0m\u001b[1;33m\u001b[0m\u001b[0m\n\u001b[1;32m--> 129\u001b[1;33m             \u001b[0mhelper\u001b[0m\u001b[1;33m(\u001b[0m\u001b[0mG\u001b[0m\u001b[1;33m,\u001b[0m \u001b[0mT\u001b[0m\u001b[1;33m,\u001b[0m \u001b[0mweighted_set\u001b[0m\u001b[1;33m)\u001b[0m\u001b[1;33m\u001b[0m\u001b[1;33m\u001b[0m\u001b[0m\n\u001b[0m\u001b[0;32m    130\u001b[0m         \u001b[0mtrimmer\u001b[0m\u001b[1;33m(\u001b[0m\u001b[0mnx\u001b[0m\u001b[1;33m.\u001b[0m\u001b[0mminimum_spanning_tree\u001b[0m\u001b[1;33m(\u001b[0m\u001b[0mG\u001b[0m\u001b[1;33m)\u001b[0m\u001b[1;33m)\u001b[0m\u001b[1;33m\u001b[0m\u001b[1;33m\u001b[0m\u001b[0m\n\u001b[0;32m    131\u001b[0m     \u001b[1;32mreturn\u001b[0m \u001b[1;33m(\u001b[0m\u001b[0mmin\u001b[0m\u001b[1;33m(\u001b[0m\u001b[0mall_potential_T\u001b[0m\u001b[1;33m,\u001b[0m \u001b[0mkey\u001b[0m \u001b[1;33m=\u001b[0m \u001b[1;32mlambda\u001b[0m \u001b[0mx\u001b[0m\u001b[1;33m:\u001b[0m \u001b[0maverage_pairwise_distance\u001b[0m\u001b[1;33m(\u001b[0m\u001b[0mx\u001b[0m\u001b[1;33m)\u001b[0m\u001b[1;33m)\u001b[0m\u001b[1;33m,\u001b[0m \u001b[0mlen\u001b[0m\u001b[1;33m(\u001b[0m\u001b[0mall_potential_T\u001b[0m\u001b[1;33m)\u001b[0m\u001b[1;33m)\u001b[0m\u001b[1;33m\u001b[0m\u001b[1;33m\u001b[0m\u001b[0m\n",
      "\u001b[1;32m<ipython-input-6-fdbf4104c8f6>\u001b[0m in \u001b[0;36mhelper\u001b[1;34m(G, T, vertexes)\u001b[0m\n\u001b[0;32m     65\u001b[0m             \u001b[1;32mnonlocal\u001b[0m \u001b[0mstart\u001b[0m\u001b[1;33m\u001b[0m\u001b[1;33m\u001b[0m\u001b[0m\n\u001b[0;32m     66\u001b[0m             \u001b[1;32mif\u001b[0m \u001b[1;33m(\u001b[0m\u001b[0mtime\u001b[0m\u001b[1;33m.\u001b[0m\u001b[0mtime\u001b[0m\u001b[1;33m(\u001b[0m\u001b[1;33m)\u001b[0m \u001b[1;33m-\u001b[0m \u001b[0mstart\u001b[0m\u001b[1;33m)\u001b[0m \u001b[1;33m>\u001b[0m \u001b[1;36m240\u001b[0m\u001b[1;33m:\u001b[0m\u001b[1;33m\u001b[0m\u001b[1;33m\u001b[0m\u001b[0m\n\u001b[1;32m---> 67\u001b[1;33m                 \u001b[1;32mreturn\u001b[0m \u001b[0mnone\u001b[0m\u001b[1;33m\u001b[0m\u001b[1;33m\u001b[0m\u001b[0m\n\u001b[0m\u001b[0;32m     68\u001b[0m             \u001b[0mcount\u001b[0m \u001b[1;33m+=\u001b[0m \u001b[1;36m1\u001b[0m\u001b[1;33m\u001b[0m\u001b[1;33m\u001b[0m\u001b[0m\n\u001b[0;32m     69\u001b[0m             \u001b[1;32mif\u001b[0m \u001b[0mcount\u001b[0m \u001b[1;33m%\u001b[0m \u001b[1;36m100\u001b[0m \u001b[1;33m==\u001b[0m \u001b[1;36m0\u001b[0m\u001b[1;33m:\u001b[0m\u001b[1;33m\u001b[0m\u001b[1;33m\u001b[0m\u001b[0m\n",
      "\u001b[1;31mNameError\u001b[0m: name 'none' is not defined"
     ]
    }
   ],
   "source": [
    "for graph in sorted(os.listdir(\"inputs\"), reverse = True): \n",
    "    G = read_input_file(\"inputs/\" + graph)\n",
    "    print(graph + \" has \" + str(len(G.nodes())) + \" nodes \" + str(len(G.edges)) + \" edges.\")\n",
    "    start = time.time() \n",
    "    T = sol5(G)\n",
    "    print(\"Graph: \" + graph +  \" took \" + str(time.time() - start) + \" seconds. This graph had: \" + str(len(G.nodes())) + \" nodes\")\n",
    "    print(\"Saving graph with average pairwise distance \" + str(average_pairwise_distance(T)) + \" to \" + 'outputs/' + graph[:-2] + 'out')\n",
    "    write_output_file(T, 'outputs/' + graph[:-2] + 'out')"
   ]
  },
  {
   "cell_type": "code",
   "execution_count": null,
   "metadata": {},
   "outputs": [],
   "source": [
    "231.56 % 30"
   ]
  },
  {
   "cell_type": "code",
   "execution_count": null,
   "metadata": {},
   "outputs": [],
   "source": []
  },
  {
   "cell_type": "code",
   "execution_count": null,
   "metadata": {},
   "outputs": [],
   "source": [
    "sorted(os.listdir(\"inputs\"), reverse = True)"
   ]
  },
  {
   "cell_type": "code",
   "execution_count": null,
   "metadata": {},
   "outputs": [],
   "source": [
    "start = time.time()\n",
    "G = read_input_file(\"inputs/medium-6.in\")\n",
    "len(G.nodes()), len(G.edges())\n",
    "solu = sol4(G)\n",
    "print(time.time() - start)"
   ]
  },
  {
   "cell_type": "code",
   "execution_count": null,
   "metadata": {},
   "outputs": [],
   "source": []
  },
  {
   "cell_type": "code",
   "execution_count": null,
   "metadata": {},
   "outputs": [],
   "source": [
    "def average_cost(path, G): \n",
    "    total = 0 \n",
    "    for i in range(len(path) - 1):\n",
    "        total += G[path[i]][path[i+1]][\"weight\"]\n",
    "    return total\n",
    "\n",
    "min(nx.all_simple_paths(G, 0, 1, cutoff = 3* len(next(nx.shortest_simple_paths(G, 0, 1)))), key = lambda x: average_cost(x, G))"
   ]
  },
  {
   "cell_type": "code",
   "execution_count": null,
   "metadata": {},
   "outputs": [],
   "source": [
    "next(nx.shortest_simple_paths(G, 0, 1))\n"
   ]
  },
  {
   "cell_type": "code",
   "execution_count": null,
   "metadata": {},
   "outputs": [],
   "source": [
    "nx.is_connected()"
   ]
  },
  {
   "cell_type": "code",
   "execution_count": null,
   "metadata": {},
   "outputs": [],
   "source": [
    "G[6][3]"
   ]
  },
  {
   "cell_type": "code",
   "execution_count": null,
   "metadata": {},
   "outputs": [],
   "source": []
  },
  {
   "cell_type": "code",
   "execution_count": null,
   "metadata": {},
   "outputs": [],
   "source": [
    "G.edges()"
   ]
  },
  {
   "cell_type": "code",
   "execution_count": null,
   "metadata": {},
   "outputs": [],
   "source": [
    "G.remove_edge(0, 21)"
   ]
  },
  {
   "cell_type": "code",
   "execution_count": null,
   "metadata": {},
   "outputs": [],
   "source": [
    "G.edges()"
   ]
  },
  {
   "cell_type": "code",
   "execution_count": null,
   "metadata": {},
   "outputs": [],
   "source": [
    "T = G.copy()\n",
    "nx.is_isomorphic(T, G)"
   ]
  },
  {
   "cell_type": "code",
   "execution_count": null,
   "metadata": {},
   "outputs": [],
   "source": [
    "\n",
    "draw_graph(G)"
   ]
  },
  {
   "cell_type": "code",
   "execution_count": null,
   "metadata": {},
   "outputs": [],
   "source": [
    "any([False, False, False])"
   ]
  },
  {
   "cell_type": "code",
   "execution_count": null,
   "metadata": {},
   "outputs": [],
   "source": [
    "G"
   ]
  },
  {
   "cell_type": "code",
   "execution_count": null,
   "metadata": {},
   "outputs": [],
   "source": [
    "i = iter(nx.all_simple_paths(G, 0, 1))"
   ]
  },
  {
   "cell_type": "code",
   "execution_count": null,
   "metadata": {},
   "outputs": [],
   "source": [
    "b = iter([1, 2])"
   ]
  },
  {
   "cell_type": "code",
   "execution_count": null,
   "metadata": {},
   "outputs": [],
   "source": [
    "next(b)"
   ]
  },
  {
   "cell_type": "code",
   "execution_count": null,
   "metadata": {},
   "outputs": [],
   "source": []
  }
 ],
 "metadata": {
  "kernelspec": {
   "display_name": "Python 3",
   "language": "python",
   "name": "python3"
  },
  "language_info": {
   "codemirror_mode": {
    "name": "ipython",
    "version": 3
   },
   "file_extension": ".py",
   "mimetype": "text/x-python",
   "name": "python",
   "nbconvert_exporter": "python",
   "pygments_lexer": "ipython3",
   "version": "3.7.6"
  }
 },
 "nbformat": 4,
 "nbformat_minor": 4
}
