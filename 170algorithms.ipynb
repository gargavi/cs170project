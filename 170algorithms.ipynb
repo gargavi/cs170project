{
 "cells": [
  {
   "cell_type": "code",
   "execution_count": null,
   "metadata": {},
   "outputs": [],
   "source": [
    "import random\n",
    "import numpy as np\n",
    "import csv\n",
    "import re\n",
    "import os \n",
    "import networkx as nx\n",
    "from networkx.algorithms import approximation\n",
    "from parse import read_input_file, write_output_file\n",
    "from utils import is_valid_network, average_pairwise_distance\n",
    "from pulp import *\n",
    "import matplotlib.pyplot as plt\n",
    "import time \n",
    "import random as rand"
   ]
  },
  {
   "cell_type": "code",
   "execution_count": null,
   "metadata": {},
   "outputs": [],
   "source": [
    "G = read_input_file(\"25.in\")"
   ]
  },
  {
   "cell_type": "code",
   "execution_count": null,
   "metadata": {},
   "outputs": [],
   "source": [
    "len(G.nodes)"
   ]
  },
  {
   "cell_type": "code",
   "execution_count": null,
   "metadata": {},
   "outputs": [],
   "source": [
    "def sol1(G): \n",
    "    print('entered sol 1')\n",
    "    weighted_set = approximation.min_weighted_dominating_set(G)\n",
    "    # need a way to connect these vertices cheapest way possible \n",
    "    all_potential_T = []\n",
    "    def helper(G, T, vertices):\n",
    "        nonlocal all_potential_T\n",
    "        if all([a in T.nodes() for a in vertices]): \n",
    "            all_potential_T.append(T)      \n",
    "        for edge in G.edges():\n",
    "            if edge not in T.edges():\n",
    "                if ((edge[0] not in T.nodes() and edge[1] in T.nodes()) or (edge[0] in T.nodes() and edge[1] not in T.nodes())):\n",
    "                    new_T = T.copy()\n",
    "                    new_T.edges()\n",
    "                    new_T.add_edge(edge[0], edge[1], weight = G[edge[0]][edge[1]][\"weight\"])\n",
    "                    if not any([nx.is_isomorphic(new_T, tree) for tree in all_potential_T]):\n",
    "                        helper(G, new_T, vertices)\n",
    "                        \n",
    "    first_T = nx.Graph()\n",
    "    first_T.add_node(weighted_set.pop())\n",
    "    helper(G, first_T, weighted_set)\n",
    "    return min(all_potential_T, key = lambda x: average_pairwise_distance(x))\n",
    "def add_weighted_path(path, T, G): \n",
    "    for i in range(len(path)-1):\n",
    "        u = path[i]\n",
    "        v = path[i+1]\n",
    "        if not ((u,v) in T.edges() and (v,u) in T.edges()): \n",
    "            T.add_edge(u, v, weight = G[u][v][\"weight\"])\n",
    "    \n",
    "    \n",
    "# find the cheapest way to connect the weighted_set together     \n",
    "def sol25(G):\n",
    "    print(\"Started Solving\")\n",
    "    connectivity = {} \n",
    "    for a in G.nodes():\n",
    "        neighbor_size = len(list(G.neighbors(a))) \n",
    "        if neighbor_size== len(G.nodes()) - 1: \n",
    "            T = nx.Graph() \n",
    "            T.add_node(a)\n",
    "            return T \n",
    "        connectivity[a] = neighbor_size\n",
    "    print('finished the iteration')\n",
    "    weighted_set = approximation.min_weighted_dominating_set(G)\n",
    "    weighted_set.update(set([rand.randint(0, len(G.nodes())-1) for i in range(len(G.nodes())//10)]))\n",
    "    top_connect = set(sorted(connectivity.keys(), key = lambda x: connectivity[x], reverse = True)[:len(G.nodes)//10])\n",
    "    weighted_set.update(top_connect) \n",
    "    weighted_set = list(weighted_set)\n",
    "    all_potential_T = []\n",
    "    \n",
    "    \n",
    "    # i think something is wrong with helper/ i was looking and im not sure how this is being called lol\n",
    "    def helper(G, T, vertexes):\n",
    "        nonlocal all_potential_T\n",
    "        node_set = set(list(T.nodes()))\n",
    "        for a in T.nodes():\n",
    "            node_set.update(set(list(G.neighbors(a))))\n",
    "        if len(node_set) == len(G.nodes()):\n",
    "            trimmer(T) \n",
    "        else:\n",
    "            for u in vertexes: \n",
    "                if u not in T.nodes():\n",
    "                    for v in T.nodes():\n",
    "                        new_T = T.copy()\n",
    "                        try: \n",
    "                            add_weighted_path(nx.dijkstra_path(G.subgraph([v] + [a for a in G.nodes() if a not in T.nodes()]), source = u, target = v), new_T, G)\n",
    "                            if nx.is_tree(new_T) and not any([nx.is_isomorphic(new_T, tree) for tree in all_potential_T]) :\n",
    "                                helper(G, new_T, vertexes)\n",
    "                        except:\n",
    "                            a = 1\n",
    "                            #print(\"Couldn't find appropriate path\")\n",
    "                            \n",
    "    def trimmer(T):\n",
    "        print('trim that shit')\n",
    "        nonlocal all_potential_T\n",
    "        for edge in T.edges():\n",
    "            new_T = T.copy() \n",
    "            if len(list(T.neighbors(edge[0]))) == 1: \n",
    "                new_T.remove_edge(edge[0], edge[1])\n",
    "                new_T.remove_node(edge[0])\n",
    "            elif len(list(T.neighbors(edge[1]))) == 1: \n",
    "                new_T.remove_edge(edge[0], edge[1])\n",
    "                new_T.remove_node(edge[1])\n",
    "            node_set = set(list(new_T.nodes()))\n",
    "            for a in new_T.nodes():\n",
    "                node_set.update(set(list(G.neighbors(a))))\n",
    "            if len(node_set) == len(G.nodes()) and average_pairwise_distance(new_T) < average_pairwise_distance(T) :\n",
    "                T = new_T \n",
    "        print('boutta append T')\n",
    "        all_potential_T.append(T)\n",
    "        \n",
    "        \n",
    "    shortest_path = [nx.dijkstra_path(G, source = i, target = j ) for (i, j) in ((i, j) for i in weighted_set for j in weighted_set if i < j)]\n",
    "    for path in shortest_path:\n",
    "        T = nx.Graph()\n",
    "        add_weighted_path(path, T, G)\n",
    "        helper(G, T, weighted_set)\n",
    "    return min(all_potential_T, key = lambda x: average_pairwise_distance(x))\n",
    "\n",
    "\n",
    "def trimmer_back(T): \n",
    "        #nonlocal all_potential_T\n",
    "        print('trim that shit back')\n",
    "        for edge in T.edges():\n",
    "            new_T = T.copy() \n",
    "            new_T.remove_edge(edge[0], edge[1])\n",
    "            if new_T.neighbors(edge[0]) == 1: \n",
    "                new_T.remove_node(edge[0])\n",
    "            else: \n",
    "                new_T.remove_node(edge[1])\n",
    "            node_set = set(list(new_T.nodes()))\n",
    "            for a in new_T.nodes():\n",
    "                node_set.update(set(list(G.neighbors(a))))\n",
    "            if len(node_set) == len(G.nodes()):\n",
    "                all_potential_T.append(T) \n",
    "                trimmer(T)\n",
    "\n",
    "def sol3(G):\n",
    "    print('entered 3')\n",
    "    trees = [sol25(G) for i in range(15)]\n",
    "    print('finished the trees')\n",
    "    return min(trees,  key = lambda x: average_pairwise_distance(x))\n",
    "\n",
    "\n"
   ]
  },
  {
   "cell_type": "code",
   "execution_count": null,
   "metadata": {},
   "outputs": [],
   "source": [
    "G = read_input_file(\"10.in\")"
   ]
  },
  {
   "cell_type": "code",
   "execution_count": null,
   "metadata": {},
   "outputs": [],
   "source": [
    "start = time.time() \n",
    "ans = sol3(G) \n",
    "print(time.time() - start)\n",
    "average_pairwise_distance(ans)"
   ]
  },
  {
   "cell_type": "code",
   "execution_count": null,
   "metadata": {
    "scrolled": false
   },
   "outputs": [],
   "source": [
    "pathname = '/Users/yashwagh/Desktop/Berkeley/170_proj/cs170project/inputs'\n",
    "for file_name in os.scandir(pathname):\n",
    "    print(file_name)\n",
    "\n",
    "    G25 = read_input_file(file_name)\n",
    "    start  = time.time()\n",
    "    ans25 = sol3(G25)\n",
    "    print(time.time() - start)\n",
    "    G50 = read_input_file(file_name)\n",
    "    start  = time.time()\n",
    "    ans50 = sol3(G50)\n",
    "    print(time.time() - start)\n",
    "    G100 = read_input_file(file_name)\n",
    "    start  = time.time()\n",
    "    ans100 = sol3(G100)\n",
    "    print(time.time() - start)\n"
   ]
  },
  {
   "cell_type": "code",
   "execution_count": null,
   "metadata": {},
   "outputs": [],
   "source": [
    "average_pairwise_distance(ans25)"
   ]
  },
  {
   "cell_type": "code",
   "execution_count": null,
   "metadata": {},
   "outputs": [],
   "source": [
    "def draw_graph(G): \n",
    "    pos=nx.spring_layout(G)\n",
    "    plt.figure(figsize = (20, 10))\n",
    "    nx.draw(G, pos)\n",
    "    labels = nx.get_edge_attributes(G,'weight')\n",
    "    nx.draw_networkx(G, pos,  with_labels= True)\n",
    "    nx.draw_networkx_edge_labels(G,pos,edge_labels=labels, );\n"
   ]
  },
  {
   "cell_type": "code",
   "execution_count": null,
   "metadata": {},
   "outputs": [],
   "source": [
    "draw_graph(G)"
   ]
  },
  {
   "cell_type": "code",
   "execution_count": null,
   "metadata": {},
   "outputs": [],
   "source": [
    "draw_graph(ans)"
   ]
  },
  {
   "cell_type": "code",
   "execution_count": null,
   "metadata": {},
   "outputs": [],
   "source": []
  }
 ],
 "metadata": {
  "kernelspec": {
   "display_name": "Python 3",
   "language": "python",
   "name": "python3"
  },
  "language_info": {
   "codemirror_mode": {
    "name": "ipython",
    "version": 3
   },
   "file_extension": ".py",
   "mimetype": "text/x-python",
   "name": "python",
   "nbconvert_exporter": "python",
   "pygments_lexer": "ipython3",
   "version": "3.7.6"
  }
 },
 "nbformat": 4,
 "nbformat_minor": 4
}
