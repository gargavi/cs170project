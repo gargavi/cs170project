{
 "cells": [
  {
   "cell_type": "code",
   "execution_count": 3,
   "metadata": {},
   "outputs": [],
   "source": [
    "import random\n",
    "import numpy as np\n",
    "import csv\n",
    "import re\n",
    "import os \n",
    "import networkx as nx"
   ]
  },
  {
   "cell_type": "code",
   "execution_count": 4,
   "metadata": {},
   "outputs": [],
   "source": [
    "def make_edge(): \n",
    "    return random.randint(1, 10000)/100\n",
    "\n",
    "def make_graph(v, tightness = 10):\n",
    "    graph = []\n",
    "    connection = []\n",
    "    connected = [] \n",
    "    def make_vertice(vertex):\n",
    "        if vertex not in connected: \n",
    "            connected.append(vertex)\n",
    "        if len(connected) != v:\n",
    "            for i in range(0, v):\n",
    "                if i != vertex and random.randint(1, tightness) == 2 and (i, vertex) not in connection and (vertex, i) not in connection: \n",
    "                    graph.append([i, vertex, make_edge()])\n",
    "                    connection.append((i, vertex))\n",
    "                    make_vertice(i)\n",
    "                \n",
    "            \n",
    "    while len(connected) != v:\n",
    "        make_vertice(0)\n",
    "    return graph \n",
    "        \n",
    "    \n",
    "    "
   ]
  },
  {
   "cell_type": "code",
   "execution_count": 5,
   "metadata": {},
   "outputs": [],
   "source": [
    "def graph_matrix(graph, size):\n",
    "    matrix_array = np.zeros((size, size))\n",
    "    for i in graph:\n",
    "        matrix_array[i[0]-1, i[1]-1] = 1\n",
    "        matrix_array[i[1]-1, i[0]-1] = 1\n",
    "    return matrix_array\n",
    "        "
   ]
  },
  {
   "cell_type": "code",
   "execution_count": 9,
   "metadata": {},
   "outputs": [],
   "source": [
    "import csv"
   ]
  },
  {
   "cell_type": "code",
   "execution_count": 13,
   "metadata": {},
   "outputs": [],
   "source": [
    "def complete_write(size, outputname, tightness = 10):\n",
    "    graph = [[size]]\n",
    "    graph2 = sorted(make_graph(size, tightness), key = lambda x : x[0])\n",
    "    graph.extend(graph2)\n",
    "    with open(outputname + \".csv\", \"w\", newline=\"\") as f:\n",
    "        writer = csv.writer(f, delimiter = \",\")\n",
    "        writer.writerows(graph)\n",
    "    with open(outputname + \".in\", \"w\", newline=\"\") as f:\n",
    "        writer = csv.writer(f, delimiter = \" \")\n",
    "        writer.writerows(graph)\n",
    "    return graph_matrix(graph2, size)\n",
    "    "
   ]
  },
  {
   "cell_type": "code",
   "execution_count": 14,
   "metadata": {},
   "outputs": [
    {
     "data": {
      "text/plain": [
       "array([[0., 1., 1., ..., 1., 1., 1.],\n",
       "       [1., 0., 1., ..., 1., 1., 1.],\n",
       "       [1., 1., 0., ..., 1., 1., 1.],\n",
       "       ...,\n",
       "       [1., 1., 1., ..., 0., 0., 1.],\n",
       "       [1., 1., 1., ..., 0., 0., 1.],\n",
       "       [1., 1., 1., ..., 1., 1., 0.]])"
      ]
     },
     "execution_count": 14,
     "metadata": {},
     "output_type": "execute_result"
    }
   ],
   "source": [
    "complete_write(25, \"25\", tightness = 10)\n",
    "complete_write(50, \"50\", tightness = 10)\n",
    "complete_write(100, \"100\", tightness = 10)"
   ]
  },
  {
   "cell_type": "code",
   "execution_count": 12,
   "metadata": {},
   "outputs": [],
   "source": [
    "def read_output_file(path, G):\n",
    "    \"\"\"\n",
    "    Parses and validates an input file\n",
    "    :param path: str, a path\n",
    "    :param G: the input graph corresponding to this output\n",
    "    :return: networkx Graph is the output is well formed, AssertionError thrown otherwise\n",
    "    \"\"\"\n",
    "    with open(path, \"r\") as fo:\n",
    "        tokens = fo.readline()\n",
    "        nodes = set()\n",
    "        for token in tokens.split():\n",
    "            assert token.isdigit()\n",
    "            node = int(token)\n",
    "            assert 0 <= node < len(G)\n",
    "            nodes.add(node)\n",
    "        lines = fo.read().splitlines()\n",
    "        fo.close()\n",
    "\n",
    "        # validate edges\n",
    "        for line in lines:\n",
    "            tokens = line.split()\n",
    "\n",
    "            assert len(tokens) == 2\n",
    "            assert tokens[0].isdigit() and int(tokens[0]) in nodes\n",
    "            u = int(tokens[0])\n",
    "            assert tokens[1].isdigit() and int(tokens[1]) in nodes\n",
    "            v = int(tokens[1])\n",
    "            assert G.has_edge(u, v)\n",
    "\n",
    "        T = nx.parse_edgelist(lines, nodetype=int, data=((\"weight\", float),))\n",
    "        for (u, v, w) in T.edges(data=True):\n",
    "            edge_in_G = G.get_edge_data(u, v)\n",
    "            w[\"weight\"] = edge_in_G[\"weight\"]\n",
    "        T.add_nodes_from(nodes)\n",
    "\n",
    "        assert utils.is_valid_network(G, T)\n",
    "\n",
    "        return T\n",
    "\n",
    "def read_input_file(path, max_size=None):\n",
    "    \"\"\"\n",
    "    Parses and validates an input file\n",
    "    :param path: str, a path\n",
    "    :return: networkx Graph is the input is well formed, AssertionError thrown otherwise\n",
    "    \"\"\"\n",
    "    with open(path, \"r\") as fo:\n",
    "        n = fo.readline().strip()\n",
    "        assert n.isdigit()\n",
    "        n = int(n)\n",
    "\n",
    "        lines = fo.read().splitlines()\n",
    "        fo.close()\n",
    "\n",
    "        # validate lines\n",
    "        for line in lines:\n",
    "            tokens = line.split(\" \")\n",
    "\n",
    "            assert len(tokens) == 3\n",
    "            assert tokens[0].isdigit() and int(tokens[0]) < n\n",
    "            print(tokens[1])\n",
    "            assert tokens[1].isdigit() and int(tokens[1]) < n\n",
    "            assert bool(re.match(r\"(^\\d+\\.\\d{1,3}$|^\\d+$)\", tokens[2]))\n",
    "            assert 0 < float(tokens[2]) < 100\n",
    "        print(lines)\n",
    "        G = nx.parse_edgelist(lines, nodetype=int, data=((\"weight\", float),))\n",
    "        G.add_nodes_from(range(n))\n",
    "\n",
    "        assert nx.is_connected(G)\n",
    "\n",
    "        if max_size is not None:\n",
    "            assert len(G) <= max_size\n",
    "\n",
    "        return G"
   ]
  },
  {
   "cell_type": "code",
   "execution_count": 15,
   "metadata": {},
   "outputs": [
    {
     "data": {
      "text/plain": [
       "array([[0., 0., 0., 0., 1., 0., 0., 0., 0., 1.],\n",
       "       [0., 0., 0., 1., 0., 1., 0., 0., 0., 1.],\n",
       "       [0., 0., 0., 1., 0., 1., 0., 1., 0., 1.],\n",
       "       [0., 1., 1., 0., 1., 0., 0., 1., 0., 1.],\n",
       "       [1., 0., 0., 1., 0., 1., 0., 0., 0., 1.],\n",
       "       [0., 1., 1., 0., 1., 0., 0., 1., 0., 0.],\n",
       "       [0., 0., 0., 0., 0., 0., 0., 0., 0., 1.],\n",
       "       [0., 0., 1., 1., 0., 1., 0., 0., 0., 1.],\n",
       "       [0., 0., 0., 0., 0., 0., 0., 0., 0., 1.],\n",
       "       [1., 1., 1., 1., 1., 0., 1., 1., 1., 0.]])"
      ]
     },
     "execution_count": 15,
     "metadata": {},
     "output_type": "execute_result"
    }
   ],
   "source": [
    "complete_write(10, \"10\", tightness = 10)"
   ]
  },
  {
   "cell_type": "code",
   "execution_count": null,
   "metadata": {},
   "outputs": [],
   "source": []
  }
 ],
 "metadata": {
  "kernelspec": {
   "display_name": "Python 3",
   "language": "python",
   "name": "python3"
  },
  "language_info": {
   "codemirror_mode": {
    "name": "ipython",
    "version": 3
   },
   "file_extension": ".py",
   "mimetype": "text/x-python",
   "name": "python",
   "nbconvert_exporter": "python",
   "pygments_lexer": "ipython3",
   "version": "3.8.2"
  }
 },
 "nbformat": 4,
 "nbformat_minor": 4
}
